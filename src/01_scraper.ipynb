{
 "cells": [
  {
   "attachments": {},
   "cell_type": "markdown",
   "metadata": {},
   "source": [
    "# Imports"
   ]
  },
  {
   "cell_type": "code",
   "execution_count": 1,
   "metadata": {},
   "outputs": [],
   "source": [
    "import httpx\n",
    "from selectolax.parser import HTMLParser\n",
    "from dataclasses import dataclass, asdict"
   ]
  },
  {
   "cell_type": "code",
   "execution_count": 12,
   "metadata": {},
   "outputs": [],
   "source": [
    "AUTHORS = [\n",
    "    'ivan_vazov',\n",
    "    'jordan-jovkov',\n",
    "    'aleko-konstantinov',\n",
    "    'elin-pelin',\n",
    "    'dimityr-dimov',\n",
    "    'dimityr-talev',    \n",
    "]\n",
    "\n",
    "def get_html(author: str):\n",
    "    url = f'https://chitanka.info/person/{author}'\n",
    "    resp = httpx.get(url)\n",
    "    html = HTMLParser(resp.text)\n",
    "    return html"
   ]
  },
  {
   "attachments": {},
   "cell_type": "markdown",
   "metadata": {},
   "source": [
    "# The `Author` dataclass"
   ]
  },
  {
   "cell_type": "code",
   "execution_count": 15,
   "metadata": {},
   "outputs": [],
   "source": [
    "@dataclass\n",
    "class Text:\n",
    "    author: str\n",
    "    content: str\n",
    "    genre: str"
   ]
  },
  {
   "attachments": {},
   "cell_type": "markdown",
   "metadata": {},
   "source": [
    "# Scrape `chitanka.info`"
   ]
  },
  {
   "cell_type": "code",
   "execution_count": 24,
   "metadata": {},
   "outputs": [],
   "source": [
    "def parse_texts(html):\n",
    "    items = html.css('div.media-body')\n",
    "\n",
    "    results = []\n",
    "    for item in items:\n",
    "        new_item = Text(\n",
    "            author=item.css_first('div.bookauthor').text().strip(),\n",
    "            content=item.css_first('h4').text().strip(),\n",
    "            genre=item.css_first('div.bookcat').text().strip(),\n",
    "        )\n",
    "        print(new_item)"
   ]
  },
  {
   "cell_type": "code",
   "execution_count": 25,
   "metadata": {},
   "outputs": [
    {
     "name": "stdout",
     "output_type": "stream",
     "text": [
      "Text(author='Иван Вазов', content='В лоното на Рила', genre='Българска класика: поезия')\n",
      "Text(author='Иван Вазов', content='В недрата на Родопите', genre='Българска документална проза')\n",
      "Text(author='Иван Вазов', content='В чужбина', genre='Българска класика: поезия')\n",
      "Text(author='Иван Вазов', content='Видено и чуто', genre='Българска класика: разкази и новели')\n",
      "Text(author='Иван Вазов', content='Гусла', genre='Българска класика: поезия')\n",
      "Text(author='Иван Вазов', content='Драски и шарки', genre='Българска класика: разкази и новели')\n",
      "Text(author='Иван Вазов', content='Епопея на забравените', genre='Българска класика: поезия')\n",
      "Text(author='Иван Вазов', content='Звукове', genre='Българска класика: поезия')\n",
      "Text(author='Иван Вазов', content='Избавление', genre='Българска класика: поезия')\n",
      "Text(author='Иван Вазов', content='Италия', genre='Българска класика: поезия')\n",
      "Text(author='Иван Вазов', content='Какво пее планината', genre='Българска класика: поезия')\n",
      "Text(author='Иван Вазов', content='Люлека ми замириса', genre='Българска класика: поезия')\n",
      "Text(author='Иван Вазов', content='Майска китка', genre='Българска класика: поезия')\n",
      "Text(author='Иван Вазов', content='Не ще загине', genre='Българска класика: поезия')\n",
      "Text(author='Иван Вазов', content='Нови екове', genre='Българска класика: поезия')\n",
      "Text(author='Иван Вазов', content='Песни за Македония', genre='Българска класика: поезия')\n",
      "Text(author='Иван Вазов', content='Под гръма на победите', genre='Българска класика: поезия')\n",
      "Text(author='Иван Вазов', content='Под игото', genre='Българска класика: романи и повести')\n",
      "Text(author='Иван Вазов', content='Под нашето небе', genre='Българска класика: поезия')\n",
      "Text(author='Иван Вазов', content='Поля и гори', genre='Българска класика: поезия')\n",
      "Text(author='Иван Вазов', content='Пряпорец и гусла', genre='Българска класика: поезия')\n",
      "Text(author='Иван Вазов', content='Пъстър свят', genre='Българска класика: разкази и новели')\n",
      "Text(author='Иван Вазов', content='Разкази 1881–1901', genre='Българска класика: разкази и новели')\n",
      "Text(author='Иван Вазов', content='Разкази 1901–1921', genre='Българска класика: разкази и новели')\n",
      "Text(author='Иван Вазов', content='Светослав Тертер', genre='Българска историческа проза')\n",
      "Text(author='Иван Вазов', content='Свободните ми часове', genre='Българска класика: поезия')\n",
      "Text(author='Иван Вазов', content='Скитнишки песни', genre='Българска класика: поезия')\n",
      "Text(author='Иван Вазов', content='Сливница', genre='Българска класика: поезия')\n",
      "Text(author='Иван Вазов', content='Стихотворения за малки деца', genre='Детски стихове и гатанки')\n",
      "Text(author='Иван Вазов', content='Тъгите на България', genre='Българска класика: поезия')\n",
      "Text(author='Иван Вазов', content='Утро в Банки', genre='Българска класика: разкази и новели')\n",
      "Text(author='Иван Вазов', content='Поеми', genre='Българска класика: поезия')\n",
      "Text(author='Йордан Йовков', content='Ако можеха да говорят', genre='Българска класика: разкази и новели')\n",
      "Text(author='Йордан Йовков', content='Вечери в Антимовския хан', genre='Българска класика: разкази и новели')\n",
      "Text(author='Йордан Йовков', content='Женско сърце', genre='Българска класика: разкази и новели')\n",
      "Text(author='Йордан Йовков', content='Земляци', genre='Българска военна проза')\n",
      "Text(author='Йордан Йовков', content='Край Места', genre='Българска военна проза')\n",
      "Text(author='Йордан Йовков', content='Песента на колелетата', genre='Българска класика: разкази и новели')\n",
      "Text(author='Йордан Йовков', content='Приключенията на Гороломов', genre='Българска класика: романи и повести')\n",
      "Text(author='Йордан Йовков', content='Старопланински легенди', genre='Българска класика: разкази и новели')\n",
      "Text(author='Йордан Йовков', content='Те победиха', genre='Българска военна проза')\n",
      "Text(author='Йордан Йовков', content='Чифликът край границата', genre='Българска класика: романи и повести')\n",
      "Text(author='Алеко Константинов', content='Бай Ганьо', genre='Българска класика: разкази и новели')\n",
      "Text(author='Елин Пелин', content='Аз, ти, той', genre='Българска класика: разкази и новели')\n",
      "Text(author='Елин Пелин', content='Гори Тилилейски', genre='Детски стихове и гатанки')\n",
      "Text(author='Елин Пелин', content='Пижо и Пендо', genre='Хумор и сатира')\n",
      "Text(author='Елин Пелин', content='Повести и разкази', genre='Българска класика: разкази и новели')\n",
      "Text(author='Елин Пелин', content='Под манастирската лоза', genre='Българска класика: разкази и новели')\n",
      "Text(author='Елин Пелин', content='Сватбата на Червенушко', genre='Приказки')\n",
      "Text(author='Елин Пелин', content='Съчинения в шест тома — том пети', genre='Приказки')\n",
      "Text(author='Елин Пелин', content='Съчинения в шест тома. Том VI', genre='Българска публицистика')\n",
      "Text(author='Елин Пелин', content='Съчинения в шест тома: том пети', genre='Романи и повести за деца, юноши и младежи')\n",
      "Text(author='Елин Пелин', content='Черни рози', genre='Българска класика: разкази и новели')\n",
      "Text(author='Димитър Димов', content='Тютюн', genre='Съвременни български романи и повести')\n",
      "Text(author='Димитър Димов', content='Тютюн', genre='Съвременни български романи и повести')\n",
      "Text(author='Димитър Димов', content='Осъдени души', genre='Съвременни български романи и повести')\n",
      "Text(author='Димитър Димов', content='Поручик Бенц', genre='Съвременни български романи и повести')\n",
      "Text(author='Димитър Талев', content='Гласовете ви чувам', genre='Българска историческа проза')\n",
      "Text(author='Димитър Талев', content='Железният светилник', genre='Българска историческа проза')\n",
      "Text(author='Димитър Талев', content='Илинден', genre='Българска историческа проза')\n",
      "Text(author='Димитър Талев', content='Пепеляшка и царският син', genre='Българска историческа проза')\n",
      "Text(author='Димитър Талев', content='Погибел', genre='Българска историческа проза')\n",
      "Text(author='Димитър Талев', content='Преспанските камбани', genre='Българска историческа проза')\n",
      "Text(author='Димитър Талев', content='Щитове каменни', genre='Българска историческа проза')\n"
     ]
    }
   ],
   "source": [
    "for author in AUTHORS:\n",
    "    html = get_html(author)\n",
    "    parse_texts(html)"
   ]
  },
  {
   "cell_type": "code",
   "execution_count": null,
   "metadata": {},
   "outputs": [],
   "source": []
  },
  {
   "cell_type": "code",
   "execution_count": null,
   "metadata": {},
   "outputs": [],
   "source": []
  },
  {
   "cell_type": "code",
   "execution_count": null,
   "metadata": {},
   "outputs": [],
   "source": []
  },
  {
   "cell_type": "code",
   "execution_count": null,
   "metadata": {},
   "outputs": [],
   "source": []
  },
  {
   "cell_type": "code",
   "execution_count": null,
   "metadata": {},
   "outputs": [],
   "source": []
  },
  {
   "cell_type": "code",
   "execution_count": null,
   "metadata": {},
   "outputs": [],
   "source": []
  },
  {
   "cell_type": "code",
   "execution_count": null,
   "metadata": {},
   "outputs": [],
   "source": []
  },
  {
   "cell_type": "code",
   "execution_count": null,
   "metadata": {},
   "outputs": [],
   "source": []
  },
  {
   "cell_type": "code",
   "execution_count": null,
   "metadata": {},
   "outputs": [],
   "source": []
  }
 ],
 "metadata": {
  "kernelspec": {
   "display_name": "venv",
   "language": "python",
   "name": "python3"
  },
  "language_info": {
   "codemirror_mode": {
    "name": "ipython",
    "version": 3
   },
   "file_extension": ".py",
   "mimetype": "text/x-python",
   "name": "python",
   "nbconvert_exporter": "python",
   "pygments_lexer": "ipython3",
   "version": "3.10.6"
  },
  "orig_nbformat": 4,
  "vscode": {
   "interpreter": {
    "hash": "f0d58e24dc67ad9783eb84df4952f180ee26c1094f6469aa467482cf58a4f907"
   }
  }
 },
 "nbformat": 4,
 "nbformat_minor": 2
}
