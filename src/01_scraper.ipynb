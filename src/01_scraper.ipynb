{
 "cells": [
  {
   "attachments": {},
   "cell_type": "markdown",
   "metadata": {},
   "source": [
    "# Imports"
   ]
  },
  {
   "cell_type": "code",
   "execution_count": 1,
   "metadata": {},
   "outputs": [],
   "source": [
    "import requests\n",
    "from scraper import scrape"
   ]
  },
  {
   "cell_type": "code",
   "execution_count": 2,
   "metadata": {},
   "outputs": [],
   "source": [
    "AUTHORS = [\n",
    "    'ivan_vazov',\n",
    "    'jordan-jovkov',\n",
    "    'aleko-konstantinov',\n",
    "    'elin-pelin',\n",
    "    'dimityr-dimov',\n",
    "    'dimityr-talev',\n",
    "]\n",
    "\n",
    "URL = 'https://chitanka.info/person'"
   ]
  },
  {
   "attachments": {},
   "cell_type": "markdown",
   "metadata": {},
   "source": [
    "# Get scraped data"
   ]
  },
  {
   "cell_type": "code",
   "execution_count": 3,
   "metadata": {},
   "outputs": [
    {
     "data": {
      "text/html": [
       "<div>\n",
       "<style scoped>\n",
       "    .dataframe tbody tr th:only-of-type {\n",
       "        vertical-align: middle;\n",
       "    }\n",
       "\n",
       "    .dataframe tbody tr th {\n",
       "        vertical-align: top;\n",
       "    }\n",
       "\n",
       "    .dataframe thead th {\n",
       "        text-align: right;\n",
       "    }\n",
       "</style>\n",
       "<table border=\"1\" class=\"dataframe\">\n",
       "  <thead>\n",
       "    <tr style=\"text-align: right;\">\n",
       "      <th></th>\n",
       "      <th>author</th>\n",
       "      <th>title</th>\n",
       "      <th>download_link</th>\n",
       "    </tr>\n",
       "  </thead>\n",
       "  <tbody>\n",
       "    <tr>\n",
       "      <th>0</th>\n",
       "      <td>Иван Вазов</td>\n",
       "      <td>Чичовци</td>\n",
       "      <td>https://chitanka.info/text/3757-chichovtsi.txt...</td>\n",
       "    </tr>\n",
       "    <tr>\n",
       "      <th>1</th>\n",
       "      <td>Иван Вазов</td>\n",
       "      <td>Под игото</td>\n",
       "      <td>https://chitanka.info/text/3753-pod-igoto.txt.zip</td>\n",
       "    </tr>\n",
       "    <tr>\n",
       "      <th>2</th>\n",
       "      <td>Иван Вазов</td>\n",
       "      <td>Нова земя</td>\n",
       "      <td>https://chitanka.info/text/3754-nova-zemja.txt...</td>\n",
       "    </tr>\n",
       "    <tr>\n",
       "      <th>3</th>\n",
       "      <td>Иван Вазов</td>\n",
       "      <td>Кардашев на лов</td>\n",
       "      <td>https://chitanka.info/text/3762-kardashev-na-l...</td>\n",
       "    </tr>\n",
       "    <tr>\n",
       "      <th>4</th>\n",
       "      <td>Иван Вазов</td>\n",
       "      <td>Най-големият</td>\n",
       "      <td>https://chitanka.info/text/4008-najgolemijat.t...</td>\n",
       "    </tr>\n",
       "    <tr>\n",
       "      <th>...</th>\n",
       "      <td>...</td>\n",
       "      <td>...</td>\n",
       "      <td>...</td>\n",
       "    </tr>\n",
       "    <tr>\n",
       "      <th>1517</th>\n",
       "      <td>Димитър Талев</td>\n",
       "      <td>Гласовете ви чувам</td>\n",
       "      <td>https://chitanka.info/text/3156-glasovete-vi-c...</td>\n",
       "    </tr>\n",
       "    <tr>\n",
       "      <th>1518</th>\n",
       "      <td>Димитър Талев</td>\n",
       "      <td>Щитове каменни</td>\n",
       "      <td>https://chitanka.info/text/4834-shtitove-kamen...</td>\n",
       "    </tr>\n",
       "    <tr>\n",
       "      <th>1519</th>\n",
       "      <td>Димитър Талев</td>\n",
       "      <td>Пепеляшка и царският син</td>\n",
       "      <td>https://chitanka.info/text/4961-pepeljashka-i-...</td>\n",
       "    </tr>\n",
       "    <tr>\n",
       "      <th>1520</th>\n",
       "      <td>Димитър Талев</td>\n",
       "      <td>Погибел</td>\n",
       "      <td>https://chitanka.info/text/4989-pogibel.txt.zip</td>\n",
       "    </tr>\n",
       "    <tr>\n",
       "      <th>1521</th>\n",
       "      <td>Димитър Талев</td>\n",
       "      <td>Крилатата кула</td>\n",
       "      <td>https://chitanka.info/text/11482-krilatata-kul...</td>\n",
       "    </tr>\n",
       "  </tbody>\n",
       "</table>\n",
       "<p>1522 rows × 3 columns</p>\n",
       "</div>"
      ],
      "text/plain": [
       "             author                     title  \\\n",
       "0        Иван Вазов                   Чичовци   \n",
       "1        Иван Вазов                 Под игото   \n",
       "2        Иван Вазов                 Нова земя   \n",
       "3        Иван Вазов           Кардашев на лов   \n",
       "4        Иван Вазов              Най-големият   \n",
       "...             ...                       ...   \n",
       "1517  Димитър Талев        Гласовете ви чувам   \n",
       "1518  Димитър Талев            Щитове каменни   \n",
       "1519  Димитър Талев  Пепеляшка и царският син   \n",
       "1520  Димитър Талев                   Погибел   \n",
       "1521  Димитър Талев            Крилатата кула   \n",
       "\n",
       "                                          download_link  \n",
       "0     https://chitanka.info/text/3757-chichovtsi.txt...  \n",
       "1     https://chitanka.info/text/3753-pod-igoto.txt.zip  \n",
       "2     https://chitanka.info/text/3754-nova-zemja.txt...  \n",
       "3     https://chitanka.info/text/3762-kardashev-na-l...  \n",
       "4     https://chitanka.info/text/4008-najgolemijat.t...  \n",
       "...                                                 ...  \n",
       "1517  https://chitanka.info/text/3156-glasovete-vi-c...  \n",
       "1518  https://chitanka.info/text/4834-shtitove-kamen...  \n",
       "1519  https://chitanka.info/text/4961-pepeljashka-i-...  \n",
       "1520    https://chitanka.info/text/4989-pogibel.txt.zip  \n",
       "1521  https://chitanka.info/text/11482-krilatata-kul...  \n",
       "\n",
       "[1522 rows x 3 columns]"
      ]
     },
     "execution_count": 3,
     "metadata": {},
     "output_type": "execute_result"
    }
   ],
   "source": [
    "scrape(URL, AUTHORS)"
   ]
  },
  {
   "cell_type": "code",
   "execution_count": null,
   "metadata": {},
   "outputs": [],
   "source": []
  },
  {
   "cell_type": "code",
   "execution_count": null,
   "metadata": {},
   "outputs": [],
   "source": [
    "os.makedirs(DATA_PATH, exist_ok=True)\n",
    "\n",
    "\n"
   ]
  },
  {
   "cell_type": "code",
   "execution_count": null,
   "metadata": {},
   "outputs": [],
   "source": [
    "\n",
    "# def download_file(url: str) -> str:\n",
    "#     \"\"\"\n",
    "#     Downloads a file from the `url` and saves the contents in `local_filename`.\n",
    "\n",
    "#     Args:\n",
    "#         url (str): The full url to the resource to be downloaded.\n",
    "\n",
    "#     Returns:\n",
    "#         str: The name of the file created on the system that holds the file.\n",
    "#     \"\"\"\n",
    "#     local_filename = url.split('/')[-1]\n",
    "#     response = requests.get(url, timeout=5)\n",
    "#     with open(local_filename, 'wb') as resp:\n",
    "#         resp.write(response.content)\n",
    "#     return local_filename"
   ]
  },
  {
   "cell_type": "code",
   "execution_count": null,
   "metadata": {},
   "outputs": [],
   "source": []
  },
  {
   "cell_type": "code",
   "execution_count": null,
   "metadata": {},
   "outputs": [],
   "source": []
  },
  {
   "cell_type": "code",
   "execution_count": null,
   "metadata": {},
   "outputs": [],
   "source": []
  },
  {
   "cell_type": "code",
   "execution_count": null,
   "metadata": {},
   "outputs": [],
   "source": []
  },
  {
   "cell_type": "code",
   "execution_count": null,
   "metadata": {},
   "outputs": [],
   "source": []
  },
  {
   "cell_type": "code",
   "execution_count": null,
   "metadata": {},
   "outputs": [],
   "source": []
  },
  {
   "cell_type": "code",
   "execution_count": null,
   "metadata": {},
   "outputs": [],
   "source": []
  }
 ],
 "metadata": {
  "kernelspec": {
   "display_name": "venv",
   "language": "python",
   "name": "python3"
  },
  "language_info": {
   "codemirror_mode": {
    "name": "ipython",
    "version": 3
   },
   "file_extension": ".py",
   "mimetype": "text/x-python",
   "name": "python",
   "nbconvert_exporter": "python",
   "pygments_lexer": "ipython3",
   "version": "3.10.6"
  },
  "orig_nbformat": 4,
  "vscode": {
   "interpreter": {
    "hash": "f0d58e24dc67ad9783eb84df4952f180ee26c1094f6469aa467482cf58a4f907"
   }
  }
 },
 "nbformat": 4,
 "nbformat_minor": 2
}
