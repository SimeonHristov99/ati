{
 "cells": [
  {
   "attachments": {},
   "cell_type": "markdown",
   "metadata": {},
   "source": [
    "# Imports"
   ]
  },
  {
   "cell_type": "code",
   "execution_count": 1,
   "metadata": {},
   "outputs": [],
   "source": [
    "from typing import List\n",
    "\n",
    "import re\n",
    "import string\n",
    "\n",
    "import numpy as np\n",
    "import pandas as pd\n",
    "pd.set_option('max_colwidth', 150)\n",
    "\n",
    "from stop_words import get_stop_words\n",
    "from nltk import ngrams\n",
    "from bulstem.stem import BulStemmer \n",
    "from lemmagen3 import Lemmatizer "
   ]
  },
  {
   "cell_type": "code",
   "execution_count": 2,
   "metadata": {},
   "outputs": [],
   "source": [
    "DATA_PATH_PREP = '../DATA/prepared'\n",
    "\n",
    "STEM_RULES = './stem_rules_context_2_utf8.txt'\n",
    "\n",
    "stop_words = get_stop_words('bulgarian')\n",
    "lemmatizer = Lemmatizer('bg')\n",
    "stemmer = BulStemmer.from_file(STEM_RULES, min_freq=2, left_context=2)"
   ]
  },
  {
   "attachments": {},
   "cell_type": "markdown",
   "metadata": {},
   "source": [
    "# Load data"
   ]
  },
  {
   "cell_type": "code",
   "execution_count": 3,
   "metadata": {},
   "outputs": [
    {
     "data": {
      "text/html": [
       "<div>\n",
       "<style scoped>\n",
       "    .dataframe tbody tr th:only-of-type {\n",
       "        vertical-align: middle;\n",
       "    }\n",
       "\n",
       "    .dataframe tbody tr th {\n",
       "        vertical-align: top;\n",
       "    }\n",
       "\n",
       "    .dataframe thead th {\n",
       "        text-align: right;\n",
       "    }\n",
       "</style>\n",
       "<table border=\"1\" class=\"dataframe\">\n",
       "  <thead>\n",
       "    <tr style=\"text-align: right;\">\n",
       "      <th></th>\n",
       "      <th>author</th>\n",
       "      <th>title</th>\n",
       "      <th>download_link</th>\n",
       "      <th>local_filename</th>\n",
       "      <th>text</th>\n",
       "    </tr>\n",
       "  </thead>\n",
       "  <tbody>\n",
       "    <tr>\n",
       "      <th>0</th>\n",
       "      <td>ivan_vazov</td>\n",
       "      <td>Чичовци</td>\n",
       "      <td>https://chitanka.info/text/3757-chichovtsi.txt.zip</td>\n",
       "      <td>../DATA/original/ivan_vazov_tbc_chichovtsi.txt</td>\n",
       "      <td>\\n\\tГалерия от типове и нрави български в турско време\\n\\n\\n\\tI. Общество\\n\\n\\tУтринното лятно слънце изскокна високо над Стара планина. Потоци от...</td>\n",
       "    </tr>\n",
       "    <tr>\n",
       "      <th>1</th>\n",
       "      <td>ivan_vazov</td>\n",
       "      <td>Под игото</td>\n",
       "      <td>https://chitanka.info/text/3753-pod-igoto.txt.zip</td>\n",
       "      <td>../DATA/original/ivan_vazov_tbc_pod_igoto.txt</td>\n",
       "      <td>\\n\\n\\n\\tЧаст първа\\n\\n\\tI. Гост\\n\\n\\tТая прохладна майска вечер чорбаджи Марко, гологлав, по халат, вечеряше с челядта си на двора.\\n\\tГосподарска...</td>\n",
       "    </tr>\n",
       "    <tr>\n",
       "      <th>2</th>\n",
       "      <td>ivan_vazov</td>\n",
       "      <td>Българският език</td>\n",
       "      <td>https://chitanka.info/text/5189-bylgarskijat-ezik.txt.zip</td>\n",
       "      <td>../DATA/original/ivan_vazov_bylgarskijat_ezik.txt</td>\n",
       "      <td>\\n\\n\\n\\n\\tЕзик свещен на моите деди\\n\\tезик на мъки, стонове вековни,\\n\\tезик на тая, дето ни роди\\n\\tза радост не — за ядове отровни.\\n\\n\\tЕзик п...</td>\n",
       "    </tr>\n",
       "    <tr>\n",
       "      <th>3</th>\n",
       "      <td>ivan_vazov</td>\n",
       "      <td>Кочо</td>\n",
       "      <td>https://chitanka.info/text/3851-kocho.txt.zip</td>\n",
       "      <td>../DATA/original/ivan_vazov_kocho.txt</td>\n",
       "      <td>\\n\\tЗащитата на Перущица\\n\\n\\n\\tO, движенье славно, о, мрачно движенье,\\n\\tдни на борба горда, о, дни на паденье!\\n\\tЕпопея тъмна, непозната нам,\\...</td>\n",
       "    </tr>\n",
       "    <tr>\n",
       "      <th>4</th>\n",
       "      <td>ivan_vazov</td>\n",
       "      <td>Левски</td>\n",
       "      <td>https://chitanka.info/text/3849-levski.txt.zip</td>\n",
       "      <td>../DATA/original/ivan_vazov_levski.txt</td>\n",
       "      <td>\\n\\n\\n\\tМанастирът тесен за мойта душа е.\\n\\tКога човек дойде тук да се покае,\\n\\tтрябва да забрави греховния мир,\\n\\tда бяга съблазни и да търси ...</td>\n",
       "    </tr>\n",
       "  </tbody>\n",
       "</table>\n",
       "</div>"
      ],
      "text/plain": [
       "       author             title  \\\n",
       "0  ivan_vazov           Чичовци   \n",
       "1  ivan_vazov         Под игото   \n",
       "2  ivan_vazov  Българският език   \n",
       "3  ivan_vazov              Кочо   \n",
       "4  ivan_vazov            Левски   \n",
       "\n",
       "                                               download_link  \\\n",
       "0         https://chitanka.info/text/3757-chichovtsi.txt.zip   \n",
       "1          https://chitanka.info/text/3753-pod-igoto.txt.zip   \n",
       "2  https://chitanka.info/text/5189-bylgarskijat-ezik.txt.zip   \n",
       "3              https://chitanka.info/text/3851-kocho.txt.zip   \n",
       "4             https://chitanka.info/text/3849-levski.txt.zip   \n",
       "\n",
       "                                      local_filename  \\\n",
       "0     ../DATA/original/ivan_vazov_tbc_chichovtsi.txt   \n",
       "1      ../DATA/original/ivan_vazov_tbc_pod_igoto.txt   \n",
       "2  ../DATA/original/ivan_vazov_bylgarskijat_ezik.txt   \n",
       "3              ../DATA/original/ivan_vazov_kocho.txt   \n",
       "4             ../DATA/original/ivan_vazov_levski.txt   \n",
       "\n",
       "                                                                                                                                                    text  \n",
       "0  \\n\\tГалерия от типове и нрави български в турско време\\n\\n\\n\\tI. Общество\\n\\n\\tУтринното лятно слънце изскокна високо над Стара планина. Потоци от...  \n",
       "1  \\n\\n\\n\\tЧаст първа\\n\\n\\tI. Гост\\n\\n\\tТая прохладна майска вечер чорбаджи Марко, гологлав, по халат, вечеряше с челядта си на двора.\\n\\tГосподарска...  \n",
       "2  \\n\\n\\n\\n\\tЕзик свещен на моите деди\\n\\tезик на мъки, стонове вековни,\\n\\tезик на тая, дето ни роди\\n\\tза радост не — за ядове отровни.\\n\\n\\tЕзик п...  \n",
       "3  \\n\\tЗащитата на Перущица\\n\\n\\n\\tO, движенье славно, о, мрачно движенье,\\n\\tдни на борба горда, о, дни на паденье!\\n\\tЕпопея тъмна, непозната нам,\\...  \n",
       "4  \\n\\n\\n\\tМанастирът тесен за мойта душа е.\\n\\tКога човек дойде тук да се покае,\\n\\tтрябва да забрави греховния мир,\\n\\tда бяга съблазни и да търси ...  "
      ]
     },
     "execution_count": 3,
     "metadata": {},
     "output_type": "execute_result"
    }
   ],
   "source": [
    "df_full = pd.read_pickle(f'{DATA_PATH_PREP}/02_df_full_text_no_meta.pkl')\n",
    "df_full.head()"
   ]
  },
  {
   "attachments": {},
   "cell_type": "markdown",
   "metadata": {},
   "source": [
    "# Create samples"
   ]
  },
  {
   "cell_type": "code",
   "execution_count": 4,
   "metadata": {},
   "outputs": [
    {
     "data": {
      "text/html": [
       "<div>\n",
       "<style scoped>\n",
       "    .dataframe tbody tr th:only-of-type {\n",
       "        vertical-align: middle;\n",
       "    }\n",
       "\n",
       "    .dataframe tbody tr th {\n",
       "        vertical-align: top;\n",
       "    }\n",
       "\n",
       "    .dataframe thead th {\n",
       "        text-align: right;\n",
       "    }\n",
       "</style>\n",
       "<table border=\"1\" class=\"dataframe\">\n",
       "  <thead>\n",
       "    <tr style=\"text-align: right;\">\n",
       "      <th></th>\n",
       "      <th>author</th>\n",
       "      <th>text</th>\n",
       "    </tr>\n",
       "  </thead>\n",
       "  <tbody>\n",
       "    <tr>\n",
       "      <th>0</th>\n",
       "      <td>aleko-konstantinov</td>\n",
       "      <td>\\n\\n\\n\\tНашият помощник на регистратора е страшен комик. Изпокапваме от смях, когато почне да бомбардира несправедливата съдба.\\n\\t— Е, дявол да г...</td>\n",
       "    </tr>\n",
       "    <tr>\n",
       "      <th>1</th>\n",
       "      <td>dimityr-dimov</td>\n",
       "      <td>\\n\\n\\n\\tI глава\\n\\n\\tГроздоберът беше към края си.\\n\\tОт малките вили и кирпичените постройки сред лозята се разнасяха ту задружни песни, бързи и ...</td>\n",
       "    </tr>\n",
       "    <tr>\n",
       "      <th>2</th>\n",
       "      <td>dimityr-talev</td>\n",
       "      <td>\\n\\n\\n\\tПърва част\\n\\tХаджи Серафимовата внука\\n\\n\\n\\n\\tОвде дърво столовито,\\n\\tстоловито, грановито,\\n\\tгранки му са до небеси,\\n\\tа корени — су...</td>\n",
       "    </tr>\n",
       "    <tr>\n",
       "      <th>3</th>\n",
       "      <td>elin-pelin</td>\n",
       "      <td>\\n\\n\\n\\tПърва глава\\n\\n\\tНай-заможният човек в селото беше дядо Йордан Геракът. Пъргав и трудолюбив, той бе работил през целия си живот и бе сполу...</td>\n",
       "    </tr>\n",
       "    <tr>\n",
       "      <th>4</th>\n",
       "      <td>ivan_vazov</td>\n",
       "      <td>\\n\\tГалерия от типове и нрави български в турско време\\n\\n\\n\\tI. Общество\\n\\n\\tУтринното лятно слънце изскокна високо над Стара планина. Потоци от...</td>\n",
       "    </tr>\n",
       "    <tr>\n",
       "      <th>5</th>\n",
       "      <td>jordan-jovkov</td>\n",
       "      <td>\\n\\n\\n\\tI\\n\\n\\tГрадът бързо се подновяваше и растеше. Но все пак оставаха много улици, където още можеше да се видят тихи, едновремешни къщурки, с...</td>\n",
       "    </tr>\n",
       "  </tbody>\n",
       "</table>\n",
       "</div>"
      ],
      "text/plain": [
       "               author  \\\n",
       "0  aleko-konstantinov   \n",
       "1       dimityr-dimov   \n",
       "2       dimityr-talev   \n",
       "3          elin-pelin   \n",
       "4          ivan_vazov   \n",
       "5       jordan-jovkov   \n",
       "\n",
       "                                                                                                                                                    text  \n",
       "0  \\n\\n\\n\\tНашият помощник на регистратора е страшен комик. Изпокапваме от смях, когато почне да бомбардира несправедливата съдба.\\n\\t— Е, дявол да г...  \n",
       "1  \\n\\n\\n\\tI глава\\n\\n\\tГроздоберът беше към края си.\\n\\tОт малките вили и кирпичените постройки сред лозята се разнасяха ту задружни песни, бързи и ...  \n",
       "2  \\n\\n\\n\\tПърва част\\n\\tХаджи Серафимовата внука\\n\\n\\n\\n\\tОвде дърво столовито,\\n\\tстоловито, грановито,\\n\\tгранки му са до небеси,\\n\\tа корени — су...  \n",
       "3  \\n\\n\\n\\tПърва глава\\n\\n\\tНай-заможният човек в селото беше дядо Йордан Геракът. Пъргав и трудолюбив, той бе работил през целия си живот и бе сполу...  \n",
       "4  \\n\\tГалерия от типове и нрави български в турско време\\n\\n\\n\\tI. Общество\\n\\n\\tУтринното лятно слънце изскокна високо над Стара планина. Потоци от...  \n",
       "5  \\n\\n\\n\\tI\\n\\n\\tГрадът бързо се подновяваше и растеше. Но все пак оставаха много улици, където още можеше да се видят тихи, едновремешни къщурки, с...  "
      ]
     },
     "execution_count": 4,
     "metadata": {},
     "output_type": "execute_result"
    }
   ],
   "source": [
    "df_group_by_author = df_full.groupby(\"author\")[\"text\"].agg(\" \".join).reset_index()\n",
    "df_group_by_author"
   ]
  },
  {
   "cell_type": "code",
   "execution_count": 5,
   "metadata": {},
   "outputs": [
    {
     "name": "stdout",
     "output_type": "stream",
     "text": [
      "limit_x=21623\n"
     ]
    },
    {
     "data": {
      "text/html": [
       "<div>\n",
       "<style scoped>\n",
       "    .dataframe tbody tr th:only-of-type {\n",
       "        vertical-align: middle;\n",
       "    }\n",
       "\n",
       "    .dataframe tbody tr th {\n",
       "        vertical-align: top;\n",
       "    }\n",
       "\n",
       "    .dataframe thead th {\n",
       "        text-align: right;\n",
       "    }\n",
       "</style>\n",
       "<table border=\"1\" class=\"dataframe\">\n",
       "  <thead>\n",
       "    <tr style=\"text-align: right;\">\n",
       "      <th></th>\n",
       "      <th>text</th>\n",
       "      <th>author</th>\n",
       "    </tr>\n",
       "  </thead>\n",
       "  <tbody>\n",
       "    <tr>\n",
       "      <th>0</th>\n",
       "      <td>е курдисам аз тебе на митницата… Тука ли си, сама ли си!… Че да ги пипна аз ония ми ти търговци, две годинки да им обирам каймака — стига ми! Па с...</td>\n",
       "      <td>aleko-konstantinov</td>\n",
       "    </tr>\n",
       "    <tr>\n",
       "      <th>1</th>\n",
       "      <td>ки, та виж няма ли да те приемат. Защо се обаждаш, защо не си мълчиш; теб какво ти влиза в работата, че този бил подлец, па оня бил крадец, па Бял...</td>\n",
       "      <td>aleko-konstantinov</td>\n",
       "    </tr>\n",
       "    <tr>\n",
       "      <th>2</th>\n",
       "      <td>то милеят толкова за нея. Еле тази солунска митница — на сърцето ми е израснала, ваджията! Ех, че келепир, майка му мечка!… Да ще султанът да ни д...</td>\n",
       "      <td>aleko-konstantinov</td>\n",
       "    </tr>\n",
       "    <tr>\n",
       "      <th>3</th>\n",
       "      <td>itanka.info/text/3709\\n\\tОригинален източник: [[http://slovo.bg|Словото]]\\n\\tДопълнителна корекция: zelenkroki, 2017\\n\\t----\\n\\t__Издание:__\\n\\tВе...</td>\n",
       "      <td>aleko-konstantinov</td>\n",
       "    </tr>\n",
       "    <tr>\n",
       "      <th>4</th>\n",
       "      <td>ереш бе, брате; ами че, моля ви се, вземете например кокона Поликсени: преди трийсет години с фаетон се разхождаше и днес, моля ви се, пак с фаето...</td>\n",
       "      <td>aleko-konstantinov</td>\n",
       "    </tr>\n",
       "    <tr>\n",
       "      <th>...</th>\n",
       "      <td>...</td>\n",
       "      <td>...</td>\n",
       "    </tr>\n",
       "    <tr>\n",
       "      <th>5995</th>\n",
       "      <td>или пък самата му орисия беше такава, но той беше съвсем негоден за каквато и да било работа. Някакъв откършлек от безгрижната и весела бохема на...</td>\n",
       "      <td>jordan-jovkov</td>\n",
       "    </tr>\n",
       "    <tr>\n",
       "      <th>5996</th>\n",
       "      <td>яскаво и галантно са флиртували из широките зали на замъците. Готовите рецепти на тая наука за сърцето инженерът беше намерил или в някой отдавна ...</td>\n",
       "      <td>jordan-jovkov</td>\n",
       "    </tr>\n",
       "    <tr>\n",
       "      <th>5997</th>\n",
       "      <td>и в околността. По една отколешна традиция, която заможните семейства още пазеха, Цветана се учеше в Роберт колеж в Цариград, но всяка ваканция пр...</td>\n",
       "      <td>jordan-jovkov</td>\n",
       "    </tr>\n",
       "    <tr>\n",
       "      <th>5998</th>\n",
       "      <td>и делничен ден. В града кипеше трескава работа. Улиците бяха задръстени от кола, всички магазини бяха отворени, около изложената навън стока се тр...</td>\n",
       "      <td>jordan-jovkov</td>\n",
       "    </tr>\n",
       "    <tr>\n",
       "      <th>5999</th>\n",
       "      <td>ято се съглежда не умение, а продължителна дресировка, кланя се и я поднася на Цветана.\\n\\t— Зюмбюли — напевно говори той. — Радост от сърце!\\n\\tТ...</td>\n",
       "      <td>jordan-jovkov</td>\n",
       "    </tr>\n",
       "  </tbody>\n",
       "</table>\n",
       "<p>6000 rows × 2 columns</p>\n",
       "</div>"
      ],
      "text/plain": [
       "                                                                                                                                                       text  \\\n",
       "0     е курдисам аз тебе на митницата… Тука ли си, сама ли си!… Че да ги пипна аз ония ми ти търговци, две годинки да им обирам каймака — стига ми! Па с...   \n",
       "1     ки, та виж няма ли да те приемат. Защо се обаждаш, защо не си мълчиш; теб какво ти влиза в работата, че този бил подлец, па оня бил крадец, па Бял...   \n",
       "2     то милеят толкова за нея. Еле тази солунска митница — на сърцето ми е израснала, ваджията! Ех, че келепир, майка му мечка!… Да ще султанът да ни д...   \n",
       "3     itanka.info/text/3709\\n\\tОригинален източник: [[http://slovo.bg|Словото]]\\n\\tДопълнителна корекция: zelenkroki, 2017\\n\\t----\\n\\t__Издание:__\\n\\tВе...   \n",
       "4     ереш бе, брате; ами че, моля ви се, вземете например кокона Поликсени: преди трийсет години с фаетон се разхождаше и днес, моля ви се, пак с фаето...   \n",
       "...                                                                                                                                                     ...   \n",
       "5995   или пък самата му орисия беше такава, но той беше съвсем негоден за каквато и да било работа. Някакъв откършлек от безгрижната и весела бохема на...   \n",
       "5996  яскаво и галантно са флиртували из широките зали на замъците. Готовите рецепти на тая наука за сърцето инженерът беше намерил или в някой отдавна ...   \n",
       "5997  и в околността. По една отколешна традиция, която заможните семейства още пазеха, Цветана се учеше в Роберт колеж в Цариград, но всяка ваканция пр...   \n",
       "5998  и делничен ден. В града кипеше трескава работа. Улиците бяха задръстени от кола, всички магазини бяха отворени, около изложената навън стока се тр...   \n",
       "5999  ято се съглежда не умение, а продължителна дресировка, кланя се и я поднася на Цветана.\\n\\t— Зюмбюли — напевно говори той. — Радост от сърце!\\n\\tТ...   \n",
       "\n",
       "                  author  \n",
       "0     aleko-konstantinov  \n",
       "1     aleko-konstantinov  \n",
       "2     aleko-konstantinov  \n",
       "3     aleko-konstantinov  \n",
       "4     aleko-konstantinov  \n",
       "...                  ...  \n",
       "5995       jordan-jovkov  \n",
       "5996       jordan-jovkov  \n",
       "5997       jordan-jovkov  \n",
       "5998       jordan-jovkov  \n",
       "5999       jordan-jovkov  \n",
       "\n",
       "[6000 rows x 2 columns]"
      ]
     },
     "execution_count": 5,
     "metadata": {},
     "output_type": "execute_result"
    }
   ],
   "source": [
    "limit_x = df_group_by_author['text'].map(lambda t: len(t.strip().split())).min() - 1000\n",
    "print(f'{limit_x=}')\n",
    "limit_y = 150_000\n",
    "\n",
    "num_authors = df_group_by_author.shape[0]\n",
    "num_samples = 1000\n",
    "\n",
    "start_idxs = np.random.randint(0, limit_x, (num_authors, num_samples))\n",
    "sample_lengths = np.random.randint(0, limit_y, (num_authors, num_samples))\n",
    "\n",
    "df_samples = pd.DataFrame(columns=['text', 'author'])\n",
    "for i in range(num_authors):\n",
    "    author_name = df_group_by_author['author'][i]\n",
    "    for j, start_idx in enumerate(start_idxs[i]):\n",
    "        sample = df_group_by_author['text'][i][start_idx : (start_idx + sample_lengths[i, j])]\n",
    "        df_samples.loc[len(df_samples)] = [sample, author_name]\n",
    "df_samples"
   ]
  },
  {
   "attachments": {},
   "cell_type": "markdown",
   "metadata": {},
   "source": [
    "# Tokenize"
   ]
  },
  {
   "cell_type": "code",
   "execution_count": 6,
   "metadata": {},
   "outputs": [],
   "source": [
    "def tokenize(raw_text: str, level: str) -> List[str]:\n",
    "    if level not in {'soft', 'medium', 'hard'}:\n",
    "        raise NotImplemented(f'Level {level} is not supported')\n",
    "    \n",
    "    text = raw_text.lower()\n",
    "    \n",
    "    if level in {'hard'}:\n",
    "        text = text.translate(text.maketrans('', '', string.punctuation))  # Remove punctuation.\n",
    "        text = re.sub(r'[a-zA-Z]', \"\", text)  # Remove non-bulgarian words.\n",
    "        \n",
    "        tokens = text.split()  # Split on whitespace\n",
    "        tokens = [token for token in tokens if token not in stop_words  # Filter out stopwords\n",
    "              and all(c.isalpha() for c in token)]  # and non-word tokens.\n",
    "    else:\n",
    "        # Split on punctuation and digits and keep them.\n",
    "        tokens = re.findall(r\"[\\w']+|[^\\w\\s]\", text)\n",
    "\n",
    "    if level in {'medium', 'hard'}:\n",
    "        # Now: ['песни', 'македония', 'българският', 'бог', ..\n",
    "        tokens = [lemmatizer.lemmatize(token) for token in tokens]\n",
    "\n",
    "    if level in {'hard'}:\n",
    "        # Now: ['песен', 'македония', 'български', 'бог', ..\n",
    "        tokens = [stemmer.stem(token) for token in tokens]\n",
    "        # Now: ['песен', 'македони', 'българск', 'бог', ..\n",
    "\n",
    "    bi_tri_grams = list(ngrams(tokens, 2)) + list(ngrams(tokens, 3)) + list(ngrams(tokens, 4))\n",
    "    tokens += map(lambda bts: ' '.join(bts), bi_tri_grams)\n",
    "\n",
    "    return tokens"
   ]
  },
  {
   "cell_type": "code",
   "execution_count": 7,
   "metadata": {},
   "outputs": [
    {
     "name": "stdout",
     "output_type": "stream",
     "text": [
      "################ Soft ################\n",
      "['това', 'е', 'низ', '!', 'съдържа', 'препинателни', '\"', 'знаци', '\"', 'и', 'цифри', 'като', ':', '42', ',', '420', ',', '4200', 'и', '7', '.', 'как', 'можем', 'да', 'го', 'разделим', '?', '?', 'това е', 'е низ', 'низ !', '! съдържа', 'съдържа препинателни', 'препинателни \"', '\" знаци', 'знаци \"', '\" и', 'и цифри', 'цифри като', 'като :', ': 42', '42 ,', ', 420', '420 ,', ', 4200', '4200 и', 'и 7', '7 .', '. как', 'как можем', 'можем да', 'да го', 'го разделим', 'разделим ?', '? ?', 'това е низ', 'е низ !', 'низ ! съдържа', '! съдържа препинателни', 'съдържа препинателни \"', 'препинателни \" знаци', '\" знаци \"', 'знаци \" и', '\" и цифри', 'и цифри като', 'цифри като :', 'като : 42', ': 42 ,', '42 , 420', ', 420 ,', '420 , 4200', ', 4200 и', '4200 и 7', 'и 7 .', '7 . как', '. как можем', 'как можем да', 'можем да го', 'да го разделим', 'го разделим ?', 'разделим ? ?', 'това е низ !', 'е низ ! съдържа', 'низ ! съдържа препинателни', '! съдържа препинателни \"', 'съдържа препинателни \" знаци', 'препинателни \" знаци \"', '\" знаци \" и', 'знаци \" и цифри', '\" и цифри като', 'и цифри като :', 'цифри като : 42', 'като : 42 ,', ': 42 , 420', '42 , 420 ,', ', 420 , 4200', '420 , 4200 и', ', 4200 и 7', '4200 и 7 .', 'и 7 . как', '7 . как можем', '. как можем да', 'как можем да го', 'можем да го разделим', 'да го разделим ?', 'го разделим ? ?']\n",
      "\n",
      "################ Medium ################\n",
      "['това', 'е', 'низ', '!', 'съдържам', 'препинателен', '\"', 'знак', '\"', 'и', 'цифра', 'като', ':', '42', ',', '420', ',', '4200', 'и', '7', '.', 'как', 'мога', 'да', 'то', 'разделя', '?', '?', 'това е', 'е низ', 'низ !', '! съдържам', 'съдържам препинателен', 'препинателен \"', '\" знак', 'знак \"', '\" и', 'и цифра', 'цифра като', 'като :', ': 42', '42 ,', ', 420', '420 ,', ', 4200', '4200 и', 'и 7', '7 .', '. как', 'как мога', 'мога да', 'да то', 'то разделя', 'разделя ?', '? ?', 'това е низ', 'е низ !', 'низ ! съдържам', '! съдържам препинателен', 'съдържам препинателен \"', 'препинателен \" знак', '\" знак \"', 'знак \" и', '\" и цифра', 'и цифра като', 'цифра като :', 'като : 42', ': 42 ,', '42 , 420', ', 420 ,', '420 , 4200', ', 4200 и', '4200 и 7', 'и 7 .', '7 . как', '. как мога', 'как мога да', 'мога да то', 'да то разделя', 'то разделя ?', 'разделя ? ?', 'това е низ !', 'е низ ! съдържам', 'низ ! съдържам препинателен', '! съдържам препинателен \"', 'съдържам препинателен \" знак', 'препинателен \" знак \"', '\" знак \" и', 'знак \" и цифра', '\" и цифра като', 'и цифра като :', 'цифра като : 42', 'като : 42 ,', ': 42 , 420', '42 , 420 ,', ', 420 , 4200', '420 , 4200 и', ', 4200 и 7', '4200 и 7 .', 'и 7 . как', '7 . как мога', '. как мога да', 'как мога да то', 'мога да то разделя', 'да то разделя ?', 'то разделя ? ?']\n",
      "\n",
      "################ Hard ################\n",
      "['низ', 'съдържа', 'препинател', 'знак', 'цифр', 'мога', 'раздел', 'низ съдържа', 'съдържа препинател', 'препинател знак', 'знак цифр', 'цифр мога', 'мога раздел', 'низ съдържа препинател', 'съдържа препинател знак', 'препинател знак цифр', 'знак цифр мога', 'цифр мога раздел', 'низ съдържа препинател знак', 'съдържа препинател знак цифр', 'препинател знак цифр мога', 'знак цифр мога раздел']\n"
     ]
    }
   ],
   "source": [
    "test = 'Това е низ! Съдържа препинателни \"знаци\" и цифри като: 42, 420, 4200 и 7.\\nКак можем да го разделим??'\n",
    "\n",
    "print('################ Soft ################')\n",
    "print(tokenize(test, 'soft'))\n",
    "print()\n",
    "\n",
    "print('################ Medium ################')\n",
    "print(tokenize(test, 'medium'))\n",
    "print()\n",
    "\n",
    "print('################ Hard ################')\n",
    "print(tokenize(test, 'hard'))"
   ]
  },
  {
   "cell_type": "code",
   "execution_count": 8,
   "metadata": {},
   "outputs": [],
   "source": [
    "df_full_soft = df_samples.copy()\n",
    "df_full_soft['text'] = df_full_soft['text'].map(lambda t: tokenize(t, 'soft'))\n",
    "\n",
    "df_full_med = df_samples.copy()\n",
    "df_full_med['text'] = df_full_med['text'].map(lambda t: tokenize(t, 'medium'))\n",
    "\n",
    "df_full_hard = df_samples.copy()\n",
    "df_full_hard['text'] = df_full_hard['text'].map(lambda t: tokenize(t, 'hard'))"
   ]
  },
  {
   "cell_type": "code",
   "execution_count": null,
   "metadata": {},
   "outputs": [],
   "source": [
    "print('################ Heads ################')\n",
    "print(df_full_soft['text'][0][:20])\n",
    "print(df_full_med['text'][0][:20])\n",
    "print(df_full_hard['text'][0][:20])\n",
    "\n",
    "print('################ Tails ################')\n",
    "print(df_full_soft['text'][0][-20:])\n",
    "print(df_full_med['text'][0][-20:])\n",
    "print(df_full_hard['text'][0][-20:])"
   ]
  },
  {
   "cell_type": "code",
   "execution_count": null,
   "metadata": {},
   "outputs": [],
   "source": [
    "df_full_hard.head()"
   ]
  },
  {
   "attachments": {},
   "cell_type": "markdown",
   "metadata": {},
   "source": [
    "# Saving to files"
   ]
  },
  {
   "cell_type": "code",
   "execution_count": null,
   "metadata": {},
   "outputs": [],
   "source": [
    "df_full_soft.to_pickle(f'{DATA_PATH_PREP}/03_df_full_soft.pkl')\n",
    "df_full_med.to_pickle(f'{DATA_PATH_PREP}/03_df_full_med.pkl')\n",
    "df_full_hard.to_pickle(f'{DATA_PATH_PREP}/03_df_full_hard.pkl')"
   ]
  }
 ],
 "metadata": {
  "kernelspec": {
   "display_name": "venv",
   "language": "python",
   "name": "python3"
  },
  "language_info": {
   "codemirror_mode": {
    "name": "ipython",
    "version": 3
   },
   "file_extension": ".py",
   "mimetype": "text/x-python",
   "name": "python",
   "nbconvert_exporter": "python",
   "pygments_lexer": "ipython3",
   "version": "3.10.6 (main, Nov 14 2022, 16:10:14) [GCC 11.3.0]"
  },
  "orig_nbformat": 4,
  "vscode": {
   "interpreter": {
    "hash": "f0d58e24dc67ad9783eb84df4952f180ee26c1094f6469aa467482cf58a4f907"
   }
  }
 },
 "nbformat": 4,
 "nbformat_minor": 2
}
