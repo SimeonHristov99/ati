{
 "cells": [
  {
   "attachments": {},
   "cell_type": "markdown",
   "metadata": {},
   "source": [
    "# Imports"
   ]
  },
  {
   "cell_type": "code",
   "execution_count": 1,
   "metadata": {},
   "outputs": [],
   "source": [
    "from typing import List\n",
    "\n",
    "import re\n",
    "import string\n",
    "\n",
    "import pandas as pd\n",
    "pd.set_option('max_colwidth', 150)\n",
    "\n",
    "from stop_words import get_stop_words\n",
    "from nltk import ngrams\n",
    "from bulstem.stem import BulStemmer \n",
    "from lemmagen3 import Lemmatizer "
   ]
  },
  {
   "cell_type": "code",
   "execution_count": 2,
   "metadata": {},
   "outputs": [],
   "source": [
    "DATA_PATH_PREP = '../DATA/prepared'\n",
    "\n",
    "STEM_RULES = './stem_rules_context_2_utf8.txt'\n",
    "\n",
    "stop_words = get_stop_words('bulgarian')\n",
    "lemmatizer = Lemmatizer('bg')\n",
    "stemmer = BulStemmer.from_file(STEM_RULES, min_freq=2, left_context=2)"
   ]
  },
  {
   "attachments": {},
   "cell_type": "markdown",
   "metadata": {},
   "source": [
    "# Load data"
   ]
  },
  {
   "cell_type": "code",
   "execution_count": 3,
   "metadata": {},
   "outputs": [
    {
     "data": {
      "text/html": [
       "<div>\n",
       "<style scoped>\n",
       "    .dataframe tbody tr th:only-of-type {\n",
       "        vertical-align: middle;\n",
       "    }\n",
       "\n",
       "    .dataframe tbody tr th {\n",
       "        vertical-align: top;\n",
       "    }\n",
       "\n",
       "    .dataframe thead th {\n",
       "        text-align: right;\n",
       "    }\n",
       "</style>\n",
       "<table border=\"1\" class=\"dataframe\">\n",
       "  <thead>\n",
       "    <tr style=\"text-align: right;\">\n",
       "      <th></th>\n",
       "      <th>author</th>\n",
       "      <th>title</th>\n",
       "      <th>download_link</th>\n",
       "      <th>local_filename</th>\n",
       "      <th>text</th>\n",
       "    </tr>\n",
       "  </thead>\n",
       "  <tbody>\n",
       "    <tr>\n",
       "      <th>0</th>\n",
       "      <td>ivan_vazov</td>\n",
       "      <td>Чичовци</td>\n",
       "      <td>https://chitanka.info/text/3757-chichovtsi.txt.zip</td>\n",
       "      <td>../DATA/original/ivan_vazov_tbc_chichovtsi.txt</td>\n",
       "      <td>\\n\\tГалерия от типове и нрави български в турско време\\n\\n\\n\\tI. Общество\\n\\n\\tУтринното лятно слънце изскокна високо над Стара планина. Потоци от...</td>\n",
       "    </tr>\n",
       "    <tr>\n",
       "      <th>1</th>\n",
       "      <td>ivan_vazov</td>\n",
       "      <td>Под игото</td>\n",
       "      <td>https://chitanka.info/text/3753-pod-igoto.txt.zip</td>\n",
       "      <td>../DATA/original/ivan_vazov_tbc_pod_igoto.txt</td>\n",
       "      <td>\\n\\n\\n\\tЧаст първа\\n\\n\\tI. Гост\\n\\n\\tТая прохладна майска вечер чорбаджи Марко, гологлав, по халат, вечеряше с челядта си на двора.\\n\\tГосподарска...</td>\n",
       "    </tr>\n",
       "    <tr>\n",
       "      <th>2</th>\n",
       "      <td>ivan_vazov</td>\n",
       "      <td>Българският език</td>\n",
       "      <td>https://chitanka.info/text/5189-bylgarskijat-ezik.txt.zip</td>\n",
       "      <td>../DATA/original/ivan_vazov_bylgarskijat_ezik.txt</td>\n",
       "      <td>\\n\\n\\n\\n\\tЕзик свещен на моите деди\\n\\tезик на мъки, стонове вековни,\\n\\tезик на тая, дето ни роди\\n\\tза радост не — за ядове отровни.\\n\\n\\tЕзик п...</td>\n",
       "    </tr>\n",
       "    <tr>\n",
       "      <th>3</th>\n",
       "      <td>ivan_vazov</td>\n",
       "      <td>Кочо</td>\n",
       "      <td>https://chitanka.info/text/3851-kocho.txt.zip</td>\n",
       "      <td>../DATA/original/ivan_vazov_kocho.txt</td>\n",
       "      <td>\\n\\tЗащитата на Перущица\\n\\n\\n\\tO, движенье славно, о, мрачно движенье,\\n\\tдни на борба горда, о, дни на паденье!\\n\\tЕпопея тъмна, непозната нам,\\...</td>\n",
       "    </tr>\n",
       "    <tr>\n",
       "      <th>4</th>\n",
       "      <td>ivan_vazov</td>\n",
       "      <td>Левски</td>\n",
       "      <td>https://chitanka.info/text/3849-levski.txt.zip</td>\n",
       "      <td>../DATA/original/ivan_vazov_levski.txt</td>\n",
       "      <td>\\n\\n\\n\\tМанастирът тесен за мойта душа е.\\n\\tКога човек дойде тук да се покае,\\n\\tтрябва да забрави греховния мир,\\n\\tда бяга съблазни и да търси ...</td>\n",
       "    </tr>\n",
       "  </tbody>\n",
       "</table>\n",
       "</div>"
      ],
      "text/plain": [
       "       author             title  \\\n",
       "0  ivan_vazov           Чичовци   \n",
       "1  ivan_vazov         Под игото   \n",
       "2  ivan_vazov  Българският език   \n",
       "3  ivan_vazov              Кочо   \n",
       "4  ivan_vazov            Левски   \n",
       "\n",
       "                                               download_link  \\\n",
       "0         https://chitanka.info/text/3757-chichovtsi.txt.zip   \n",
       "1          https://chitanka.info/text/3753-pod-igoto.txt.zip   \n",
       "2  https://chitanka.info/text/5189-bylgarskijat-ezik.txt.zip   \n",
       "3              https://chitanka.info/text/3851-kocho.txt.zip   \n",
       "4             https://chitanka.info/text/3849-levski.txt.zip   \n",
       "\n",
       "                                      local_filename  \\\n",
       "0     ../DATA/original/ivan_vazov_tbc_chichovtsi.txt   \n",
       "1      ../DATA/original/ivan_vazov_tbc_pod_igoto.txt   \n",
       "2  ../DATA/original/ivan_vazov_bylgarskijat_ezik.txt   \n",
       "3              ../DATA/original/ivan_vazov_kocho.txt   \n",
       "4             ../DATA/original/ivan_vazov_levski.txt   \n",
       "\n",
       "                                                                                                                                                    text  \n",
       "0  \\n\\tГалерия от типове и нрави български в турско време\\n\\n\\n\\tI. Общество\\n\\n\\tУтринното лятно слънце изскокна високо над Стара планина. Потоци от...  \n",
       "1  \\n\\n\\n\\tЧаст първа\\n\\n\\tI. Гост\\n\\n\\tТая прохладна майска вечер чорбаджи Марко, гологлав, по халат, вечеряше с челядта си на двора.\\n\\tГосподарска...  \n",
       "2  \\n\\n\\n\\n\\tЕзик свещен на моите деди\\n\\tезик на мъки, стонове вековни,\\n\\tезик на тая, дето ни роди\\n\\tза радост не — за ядове отровни.\\n\\n\\tЕзик п...  \n",
       "3  \\n\\tЗащитата на Перущица\\n\\n\\n\\tO, движенье славно, о, мрачно движенье,\\n\\tдни на борба горда, о, дни на паденье!\\n\\tЕпопея тъмна, непозната нам,\\...  \n",
       "4  \\n\\n\\n\\tМанастирът тесен за мойта душа е.\\n\\tКога човек дойде тук да се покае,\\n\\tтрябва да забрави греховния мир,\\n\\tда бяга съблазни и да търси ...  "
      ]
     },
     "execution_count": 3,
     "metadata": {},
     "output_type": "execute_result"
    }
   ],
   "source": [
    "df_full = pd.read_pickle(f'{DATA_PATH_PREP}/02_df_full_text_no_meta.pkl')\n",
    "df_full.head()"
   ]
  },
  {
   "attachments": {},
   "cell_type": "markdown",
   "metadata": {},
   "source": [
    "# Tokenize"
   ]
  },
  {
   "cell_type": "code",
   "execution_count": 4,
   "metadata": {},
   "outputs": [],
   "source": [
    "def tokenize(raw_text: str, level: str) -> List[str]:\n",
    "    if level not in {'soft', 'medium', 'hard'}:\n",
    "        raise NotImplemented(f'Level {level} is not supported')\n",
    "    \n",
    "    text = raw_text.lower()\n",
    "    \n",
    "    if level in {'hard'}:\n",
    "        text = text.translate(text.maketrans('', '', string.punctuation))  # Remove punctuation.\n",
    "        text = re.sub(r'[a-zA-Z]', \"\", text)  # Remove non-bulgarian words.\n",
    "        \n",
    "        tokens = text.split()  # Split on whitespace\n",
    "        tokens = [token for token in tokens if token not in stop_words  # Filter out stopwords\n",
    "              and all(c.isalpha() for c in token)]  # and non-word tokens.\n",
    "    else:\n",
    "        # Split on punctuation and digits and keep them.\n",
    "        tokens = re.findall(r\"[\\w']+|[^\\w\\s]\", text)\n",
    "\n",
    "    if level in {'medium', 'hard'}:\n",
    "        # Now: ['песни', 'македония', 'българският', 'бог', ..\n",
    "        tokens = [lemmatizer.lemmatize(token) for token in tokens]\n",
    "\n",
    "    if level in {'hard'}:\n",
    "        # Now: ['песен', 'македония', 'български', 'бог', ..\n",
    "        tokens = [stemmer.stem(token) for token in tokens]\n",
    "        # Now: ['песен', 'македони', 'българск', 'бог', ..\n",
    "\n",
    "    bi_tri_grams = list(ngrams(tokens, 2)) + list(ngrams(tokens, 3)) + list(ngrams(tokens, 4))\n",
    "    tokens += map(lambda bts: ' '.join(bts), bi_tri_grams)\n",
    "\n",
    "    return tokens"
   ]
  },
  {
   "cell_type": "code",
   "execution_count": 5,
   "metadata": {},
   "outputs": [
    {
     "name": "stdout",
     "output_type": "stream",
     "text": [
      "################ Soft ################\n",
      "['това', 'е', 'низ', '!', 'съдържа', 'препинателни', '\"', 'знаци', '\"', 'и', 'цифри', 'като', ':', '42', ',', '420', ',', '4200', 'и', '7', '.', 'как', 'можем', 'да', 'го', 'разделим', '?', '?', 'това е', 'е низ', 'низ !', '! съдържа', 'съдържа препинателни', 'препинателни \"', '\" знаци', 'знаци \"', '\" и', 'и цифри', 'цифри като', 'като :', ': 42', '42 ,', ', 420', '420 ,', ', 4200', '4200 и', 'и 7', '7 .', '. как', 'как можем', 'можем да', 'да го', 'го разделим', 'разделим ?', '? ?', 'това е низ', 'е низ !', 'низ ! съдържа', '! съдържа препинателни', 'съдържа препинателни \"', 'препинателни \" знаци', '\" знаци \"', 'знаци \" и', '\" и цифри', 'и цифри като', 'цифри като :', 'като : 42', ': 42 ,', '42 , 420', ', 420 ,', '420 , 4200', ', 4200 и', '4200 и 7', 'и 7 .', '7 . как', '. как можем', 'как можем да', 'можем да го', 'да го разделим', 'го разделим ?', 'разделим ? ?', 'това е низ !', 'е низ ! съдържа', 'низ ! съдържа препинателни', '! съдържа препинателни \"', 'съдържа препинателни \" знаци', 'препинателни \" знаци \"', '\" знаци \" и', 'знаци \" и цифри', '\" и цифри като', 'и цифри като :', 'цифри като : 42', 'като : 42 ,', ': 42 , 420', '42 , 420 ,', ', 420 , 4200', '420 , 4200 и', ', 4200 и 7', '4200 и 7 .', 'и 7 . как', '7 . как можем', '. как можем да', 'как можем да го', 'можем да го разделим', 'да го разделим ?', 'го разделим ? ?']\n",
      "\n",
      "################ Medium ################\n",
      "['това', 'е', 'низ', '!', 'съдържам', 'препинателен', '\"', 'знак', '\"', 'и', 'цифра', 'като', ':', '42', ',', '420', ',', '4200', 'и', '7', '.', 'как', 'мога', 'да', 'то', 'разделя', '?', '?', 'това е', 'е низ', 'низ !', '! съдържам', 'съдържам препинателен', 'препинателен \"', '\" знак', 'знак \"', '\" и', 'и цифра', 'цифра като', 'като :', ': 42', '42 ,', ', 420', '420 ,', ', 4200', '4200 и', 'и 7', '7 .', '. как', 'как мога', 'мога да', 'да то', 'то разделя', 'разделя ?', '? ?', 'това е низ', 'е низ !', 'низ ! съдържам', '! съдържам препинателен', 'съдържам препинателен \"', 'препинателен \" знак', '\" знак \"', 'знак \" и', '\" и цифра', 'и цифра като', 'цифра като :', 'като : 42', ': 42 ,', '42 , 420', ', 420 ,', '420 , 4200', ', 4200 и', '4200 и 7', 'и 7 .', '7 . как', '. как мога', 'как мога да', 'мога да то', 'да то разделя', 'то разделя ?', 'разделя ? ?', 'това е низ !', 'е низ ! съдържам', 'низ ! съдържам препинателен', '! съдържам препинателен \"', 'съдържам препинателен \" знак', 'препинателен \" знак \"', '\" знак \" и', 'знак \" и цифра', '\" и цифра като', 'и цифра като :', 'цифра като : 42', 'като : 42 ,', ': 42 , 420', '42 , 420 ,', ', 420 , 4200', '420 , 4200 и', ', 4200 и 7', '4200 и 7 .', 'и 7 . как', '7 . как мога', '. как мога да', 'как мога да то', 'мога да то разделя', 'да то разделя ?', 'то разделя ? ?']\n",
      "\n",
      "################ Hard ################\n",
      "['низ', 'съдържа', 'препинател', 'знак', 'цифр', 'мога', 'раздел', 'низ съдържа', 'съдържа препинател', 'препинател знак', 'знак цифр', 'цифр мога', 'мога раздел', 'низ съдържа препинател', 'съдържа препинател знак', 'препинател знак цифр', 'знак цифр мога', 'цифр мога раздел', 'низ съдържа препинател знак', 'съдържа препинател знак цифр', 'препинател знак цифр мога', 'знак цифр мога раздел']\n"
     ]
    }
   ],
   "source": [
    "test = 'Това е низ! Съдържа препинателни \"знаци\" и цифри като: 42, 420, 4200 и 7.\\nКак можем да го разделим??'\n",
    "\n",
    "print('################ Soft ################')\n",
    "print(tokenize(test, 'soft'))\n",
    "print()\n",
    "\n",
    "print('################ Medium ################')\n",
    "print(tokenize(test, 'medium'))\n",
    "print()\n",
    "\n",
    "print('################ Hard ################')\n",
    "print(tokenize(test, 'hard'))"
   ]
  },
  {
   "cell_type": "code",
   "execution_count": 6,
   "metadata": {},
   "outputs": [],
   "source": [
    "df_full_no_meta = df_full.drop(['title', 'download_link', 'local_filename'], axis=1)\n",
    "df_full_no_meta = df_full_no_meta[['text', 'author']]\n",
    "\n",
    "df_full_soft = df_full_no_meta.copy()\n",
    "df_full_soft['text'] = df_full_soft['text'].map(lambda t: tokenize(t, 'soft'))\n",
    "\n",
    "df_full_med = df_full_no_meta.copy()\n",
    "df_full_med['text'] = df_full_med['text'].map(lambda t: tokenize(t, 'medium'))\n",
    "\n",
    "df_full_hard = df_full_no_meta.copy()\n",
    "df_full_hard['text'] = df_full_hard['text'].map(lambda t: tokenize(t, 'hard'))"
   ]
  },
  {
   "cell_type": "code",
   "execution_count": 7,
   "metadata": {},
   "outputs": [
    {
     "name": "stdout",
     "output_type": "stream",
     "text": [
      "################ Heads ################\n",
      "['галерия', 'от', 'типове', 'и', 'нрави', 'български', 'в', 'турско', 'време', 'i', '.', 'общество', 'утринното', 'лятно', 'слънце', 'изскокна', 'високо', 'над', 'стара', 'планина']\n",
      "['галерия', 'от', 'тип', 'и', 'нравя', 'български', 'в', 'турско', 'време', 'i', '.', 'общество', 'утринен', 'лятно', 'слънце', 'изскокна', 'високо', 'над', 'старая', 'планина']\n",
      "['галери', 'тип', 'нравя', 'българск', 'турск', 'обществ', 'утрин', 'лятн', 'слънц', 'изскокн', 'висок', 'стара', 'плани', 'пото', 'заря', 'минува', 'търкаляст', 'решетча', 'прозор', 'черкв']\n",
      "################ Tails ################\n",
      "['потвърди досетливият хаджи смион', 'досетливият хаджи смион ,', 'хаджи смион , като', 'смион , като си', ', като си изу', 'като си изу лявата', 'си изу лявата калевра', 'изу лявата калевра и', 'лявата калевра и погледна', 'калевра и погледна ласкаво', 'и погледна ласкаво онбашия', 'погледна ласкаво онбашия .', 'ласкаво онбашия . 20', 'онбашия . 20 август', '. 20 август ,', '20 август , 1884', 'август , 1884 г', ', 1884 г .', '1884 г . сопот', 'г . сопот .']\n",
      "['потвърдя досетлив хаджи смион', 'досетлив хаджи смион ,', 'хаджи смион , като', 'смион , като си', ', като си изу', 'като си изу ляв', 'си изу ляв калевра', 'изу ляв калевра и', 'ляв калевра и погледна', 'калевра и погледна ласкаво', 'и погледна ласкаво онбашия', 'погледна ласкаво онбашия .', 'ласкаво онбашия . 20', 'онбашия . 20 август', '. 20 август ,', '20 август , 1884', 'август , 1884 г', ', 1884 г .', '1884 г . сопот', 'г . сопот .']\n",
      "['тъкмо недел остава малъ', 'недел остава малъ пост', 'остава малъ пост хваща', 'малъ пост хваща тебе', 'пост хваща тебе какъвто', 'хваща тебе какъвто иска', 'тебе какъвто иска препира', 'какъвто иска препира напраз', 'иска препира напраз потвърд', 'препира напраз потвърд досетлив', 'напраз потвърд досетлив хадж', 'потвърд досетлив хадж смион', 'досетлив хадж смион изу', 'хадж смион изу ляв', 'смион изу ляв калевр', 'изу ляв калевр поглед', 'ляв калевр поглед ласкав', 'калевр поглед ласкав онбаши', 'поглед ласкав онбаши август', 'ласкав онбаши август сопот']\n"
     ]
    }
   ],
   "source": [
    "print('################ Heads ################')\n",
    "print(df_full_soft['text'][0][:20])\n",
    "print(df_full_med['text'][0][:20])\n",
    "print(df_full_hard['text'][0][:20])\n",
    "\n",
    "print('################ Tails ################')\n",
    "print(df_full_soft['text'][0][-20:])\n",
    "print(df_full_med['text'][0][-20:])\n",
    "print(df_full_hard['text'][0][-20:])"
   ]
  },
  {
   "cell_type": "code",
   "execution_count": 8,
   "metadata": {},
   "outputs": [
    {
     "data": {
      "text/html": [
       "<div>\n",
       "<style scoped>\n",
       "    .dataframe tbody tr th:only-of-type {\n",
       "        vertical-align: middle;\n",
       "    }\n",
       "\n",
       "    .dataframe tbody tr th {\n",
       "        vertical-align: top;\n",
       "    }\n",
       "\n",
       "    .dataframe thead th {\n",
       "        text-align: right;\n",
       "    }\n",
       "</style>\n",
       "<table border=\"1\" class=\"dataframe\">\n",
       "  <thead>\n",
       "    <tr style=\"text-align: right;\">\n",
       "      <th></th>\n",
       "      <th>text</th>\n",
       "      <th>author</th>\n",
       "    </tr>\n",
       "  </thead>\n",
       "  <tbody>\n",
       "    <tr>\n",
       "      <th>0</th>\n",
       "      <td>[галери, тип, нравя, българск, турск, обществ, утрин, лятн, слънц, изскокн, висок, стара, плани, пото, заря, минува, търкаляст, решетча, прозор, ч...</td>\n",
       "      <td>ivan_vazov</td>\n",
       "    </tr>\n",
       "    <tr>\n",
       "      <th>1</th>\n",
       "      <td>[част, първ, гост, тая, прохла, майск, вечер, чорбадж, марк, гологлав, хала, вечеря, челяд, двор, господарск, трапез, сложа, обикновени, лоза, бис...</td>\n",
       "      <td>ivan_vazov</td>\n",
       "    </tr>\n",
       "    <tr>\n",
       "      <th>2</th>\n",
       "      <td>[ези, свещен, мои, деди, ези, мъки, стон, веков, ези, тая, дето, родя, радост, яд, отров, ези, прекрас, руг, пощад, хуля, гадк, вслуша, мелодья, т...</td>\n",
       "      <td>ivan_vazov</td>\n",
       "    </tr>\n",
       "    <tr>\n",
       "      <th>3</th>\n",
       "      <td>[защит, перущиц, движенье, славно, о, мрачно, движенье, борб, горд, о, паденье, епоп, тъмен, непозн, нам, епоп, пълен, геройств, срам, храм, пълен...</td>\n",
       "      <td>ivan_vazov</td>\n",
       "    </tr>\n",
       "    <tr>\n",
       "      <th>4</th>\n",
       "      <td>[манастир, тесен, мой, душа, чове, дойд, пока, забрав, грехов, мир, бяга, съблазн, търс, мир, мой, съвест, ина, днеск, говор, расо, черн, що, нося...</td>\n",
       "      <td>ivan_vazov</td>\n",
       "    </tr>\n",
       "  </tbody>\n",
       "</table>\n",
       "</div>"
      ],
      "text/plain": [
       "                                                                                                                                                    text  \\\n",
       "0  [галери, тип, нравя, българск, турск, обществ, утрин, лятн, слънц, изскокн, висок, стара, плани, пото, заря, минува, търкаляст, решетча, прозор, ч...   \n",
       "1  [част, първ, гост, тая, прохла, майск, вечер, чорбадж, марк, гологлав, хала, вечеря, челяд, двор, господарск, трапез, сложа, обикновени, лоза, бис...   \n",
       "2  [ези, свещен, мои, деди, ези, мъки, стон, веков, ези, тая, дето, родя, радост, яд, отров, ези, прекрас, руг, пощад, хуля, гадк, вслуша, мелодья, т...   \n",
       "3  [защит, перущиц, движенье, славно, о, мрачно, движенье, борб, горд, о, паденье, епоп, тъмен, непозн, нам, епоп, пълен, геройств, срам, храм, пълен...   \n",
       "4  [манастир, тесен, мой, душа, чове, дойд, пока, забрав, грехов, мир, бяга, съблазн, търс, мир, мой, съвест, ина, днеск, говор, расо, черн, що, нося...   \n",
       "\n",
       "       author  \n",
       "0  ivan_vazov  \n",
       "1  ivan_vazov  \n",
       "2  ivan_vazov  \n",
       "3  ivan_vazov  \n",
       "4  ivan_vazov  "
      ]
     },
     "execution_count": 8,
     "metadata": {},
     "output_type": "execute_result"
    }
   ],
   "source": [
    "df_full_hard.head()"
   ]
  },
  {
   "attachments": {},
   "cell_type": "markdown",
   "metadata": {},
   "source": [
    "# Saving to files"
   ]
  },
  {
   "cell_type": "code",
   "execution_count": 9,
   "metadata": {},
   "outputs": [],
   "source": [
    "df_full_soft.to_pickle(f'{DATA_PATH_PREP}/03_df_full_soft.pkl')\n",
    "df_full_med.to_pickle(f'{DATA_PATH_PREP}/03_df_full_med.pkl')\n",
    "df_full_hard.to_pickle(f'{DATA_PATH_PREP}/03_df_full_hard.pkl')"
   ]
  }
 ],
 "metadata": {
  "kernelspec": {
   "display_name": "venv",
   "language": "python",
   "name": "python3"
  },
  "language_info": {
   "codemirror_mode": {
    "name": "ipython",
    "version": 3
   },
   "file_extension": ".py",
   "mimetype": "text/x-python",
   "name": "python",
   "nbconvert_exporter": "python",
   "pygments_lexer": "ipython3",
   "version": "3.10.6"
  },
  "orig_nbformat": 4,
  "vscode": {
   "interpreter": {
    "hash": "f0d58e24dc67ad9783eb84df4952f180ee26c1094f6469aa467482cf58a4f907"
   }
  }
 },
 "nbformat": 4,
 "nbformat_minor": 2
}
