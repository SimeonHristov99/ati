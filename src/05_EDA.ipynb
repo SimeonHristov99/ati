{
 "cells": [
  {
   "attachments": {},
   "cell_type": "markdown",
   "metadata": {},
   "source": [
    "# Imports"
   ]
  },
  {
   "cell_type": "code",
   "execution_count": 1,
   "metadata": {},
   "outputs": [],
   "source": [
    "import pandas as pd\n",
    "pd.set_option('max_colwidth', 150)"
   ]
  },
  {
   "cell_type": "code",
   "execution_count": 2,
   "metadata": {},
   "outputs": [],
   "source": [
    "DATA_PATH_PREP = '../DATA/prepared'"
   ]
  },
  {
   "attachments": {},
   "cell_type": "markdown",
   "metadata": {},
   "source": [
    "# Load data"
   ]
  },
  {
   "cell_type": "code",
   "execution_count": 3,
   "metadata": {},
   "outputs": [],
   "source": [
    "data_table_soft = pd.read_pickle(f'{DATA_PATH_PREP}/04_data_table_soft.pkl')\n",
    "data_table_med = pd.read_pickle(f'{DATA_PATH_PREP}/04_data_table_med.pkl')\n",
    "data_table_hard = pd.read_pickle(f'{DATA_PATH_PREP}/04_data_table_hard.pkl')"
   ]
  },
  {
   "cell_type": "code",
   "execution_count": 4,
   "metadata": {},
   "outputs": [
    {
     "data": {
      "text/html": [
       "<div>\n",
       "<style scoped>\n",
       "    .dataframe tbody tr th:only-of-type {\n",
       "        vertical-align: middle;\n",
       "    }\n",
       "\n",
       "    .dataframe tbody tr th {\n",
       "        vertical-align: top;\n",
       "    }\n",
       "\n",
       "    .dataframe thead th {\n",
       "        text-align: right;\n",
       "    }\n",
       "</style>\n",
       "<table border=\"1\" class=\"dataframe\">\n",
       "  <thead>\n",
       "    <tr style=\"text-align: right;\">\n",
       "      <th></th>\n",
       "      <th>!</th>\n",
       "      <th>! )</th>\n",
       "      <th>! ) ,</th>\n",
       "      <th>! [</th>\n",
       "      <th>! [ *</th>\n",
       "      <th>! »</th>\n",
       "      <th>! а</th>\n",
       "      <th>! аз</th>\n",
       "      <th>! аз ,</th>\n",
       "      <th>! аз съм</th>\n",
       "      <th>...</th>\n",
       "      <th>… …</th>\n",
       "      <th>… … и</th>\n",
       "      <th>… … …</th>\n",
       "      <th>… … … и</th>\n",
       "      <th>… … … …</th>\n",
       "      <th>№</th>\n",
       "      <th>№ 19</th>\n",
       "      <th>№ 19 .</th>\n",
       "      <th>№ 19 . тираж</th>\n",
       "      <th>author</th>\n",
       "    </tr>\n",
       "  </thead>\n",
       "  <tbody>\n",
       "    <tr>\n",
       "      <th>0</th>\n",
       "      <td>0.085731</td>\n",
       "      <td>0.0</td>\n",
       "      <td>0.0</td>\n",
       "      <td>0.000921</td>\n",
       "      <td>0.000921</td>\n",
       "      <td>0.0</td>\n",
       "      <td>0.001073</td>\n",
       "      <td>0.003493</td>\n",
       "      <td>0.000921</td>\n",
       "      <td>0.000000</td>\n",
       "      <td>...</td>\n",
       "      <td>0.000000</td>\n",
       "      <td>0.000000</td>\n",
       "      <td>0.000000</td>\n",
       "      <td>0.000000</td>\n",
       "      <td>0.000000</td>\n",
       "      <td>0.000000</td>\n",
       "      <td>0.000000</td>\n",
       "      <td>0.000000</td>\n",
       "      <td>0.000000</td>\n",
       "      <td>ivan_vazov</td>\n",
       "    </tr>\n",
       "    <tr>\n",
       "      <th>1</th>\n",
       "      <td>0.046539</td>\n",
       "      <td>0.0</td>\n",
       "      <td>0.0</td>\n",
       "      <td>0.000000</td>\n",
       "      <td>0.000000</td>\n",
       "      <td>0.0</td>\n",
       "      <td>0.000570</td>\n",
       "      <td>0.000743</td>\n",
       "      <td>0.000000</td>\n",
       "      <td>0.000979</td>\n",
       "      <td>...</td>\n",
       "      <td>0.000000</td>\n",
       "      <td>0.000000</td>\n",
       "      <td>0.000000</td>\n",
       "      <td>0.000000</td>\n",
       "      <td>0.000000</td>\n",
       "      <td>0.000000</td>\n",
       "      <td>0.000000</td>\n",
       "      <td>0.000000</td>\n",
       "      <td>0.000000</td>\n",
       "      <td>ivan_vazov</td>\n",
       "    </tr>\n",
       "    <tr>\n",
       "      <th>2</th>\n",
       "      <td>0.062363</td>\n",
       "      <td>0.0</td>\n",
       "      <td>0.0</td>\n",
       "      <td>0.000000</td>\n",
       "      <td>0.000000</td>\n",
       "      <td>0.0</td>\n",
       "      <td>0.000000</td>\n",
       "      <td>0.000000</td>\n",
       "      <td>0.000000</td>\n",
       "      <td>0.000000</td>\n",
       "      <td>...</td>\n",
       "      <td>0.000000</td>\n",
       "      <td>0.000000</td>\n",
       "      <td>0.000000</td>\n",
       "      <td>0.000000</td>\n",
       "      <td>0.000000</td>\n",
       "      <td>0.000000</td>\n",
       "      <td>0.000000</td>\n",
       "      <td>0.000000</td>\n",
       "      <td>0.000000</td>\n",
       "      <td>ivan_vazov</td>\n",
       "    </tr>\n",
       "    <tr>\n",
       "      <th>3</th>\n",
       "      <td>0.141259</td>\n",
       "      <td>0.0</td>\n",
       "      <td>0.0</td>\n",
       "      <td>0.000000</td>\n",
       "      <td>0.000000</td>\n",
       "      <td>0.0</td>\n",
       "      <td>0.000000</td>\n",
       "      <td>0.000000</td>\n",
       "      <td>0.000000</td>\n",
       "      <td>0.000000</td>\n",
       "      <td>...</td>\n",
       "      <td>0.254548</td>\n",
       "      <td>0.013397</td>\n",
       "      <td>0.241151</td>\n",
       "      <td>0.013397</td>\n",
       "      <td>0.227753</td>\n",
       "      <td>0.012470</td>\n",
       "      <td>0.012470</td>\n",
       "      <td>0.012470</td>\n",
       "      <td>0.012470</td>\n",
       "      <td>ivan_vazov</td>\n",
       "    </tr>\n",
       "    <tr>\n",
       "      <th>4</th>\n",
       "      <td>0.051592</td>\n",
       "      <td>0.0</td>\n",
       "      <td>0.0</td>\n",
       "      <td>0.000000</td>\n",
       "      <td>0.000000</td>\n",
       "      <td>0.0</td>\n",
       "      <td>0.000000</td>\n",
       "      <td>0.000000</td>\n",
       "      <td>0.000000</td>\n",
       "      <td>0.000000</td>\n",
       "      <td>...</td>\n",
       "      <td>0.232911</td>\n",
       "      <td>0.011091</td>\n",
       "      <td>0.221820</td>\n",
       "      <td>0.011091</td>\n",
       "      <td>0.210729</td>\n",
       "      <td>0.010323</td>\n",
       "      <td>0.010323</td>\n",
       "      <td>0.010323</td>\n",
       "      <td>0.010323</td>\n",
       "      <td>ivan_vazov</td>\n",
       "    </tr>\n",
       "  </tbody>\n",
       "</table>\n",
       "<p>5 rows × 43440 columns</p>\n",
       "</div>"
      ],
      "text/plain": [
       "          !  ! )  ! ) ,       ! [     ! [ *  ! »       ! а      ! аз  \\\n",
       "0  0.085731  0.0    0.0  0.000921  0.000921  0.0  0.001073  0.003493   \n",
       "1  0.046539  0.0    0.0  0.000000  0.000000  0.0  0.000570  0.000743   \n",
       "2  0.062363  0.0    0.0  0.000000  0.000000  0.0  0.000000  0.000000   \n",
       "3  0.141259  0.0    0.0  0.000000  0.000000  0.0  0.000000  0.000000   \n",
       "4  0.051592  0.0    0.0  0.000000  0.000000  0.0  0.000000  0.000000   \n",
       "\n",
       "     ! аз ,  ! аз съм  ...       … …     … … и     … … …   … … … и   … … … …  \\\n",
       "0  0.000921  0.000000  ...  0.000000  0.000000  0.000000  0.000000  0.000000   \n",
       "1  0.000000  0.000979  ...  0.000000  0.000000  0.000000  0.000000  0.000000   \n",
       "2  0.000000  0.000000  ...  0.000000  0.000000  0.000000  0.000000  0.000000   \n",
       "3  0.000000  0.000000  ...  0.254548  0.013397  0.241151  0.013397  0.227753   \n",
       "4  0.000000  0.000000  ...  0.232911  0.011091  0.221820  0.011091  0.210729   \n",
       "\n",
       "          №      № 19    № 19 .  № 19 . тираж      author  \n",
       "0  0.000000  0.000000  0.000000      0.000000  ivan_vazov  \n",
       "1  0.000000  0.000000  0.000000      0.000000  ivan_vazov  \n",
       "2  0.000000  0.000000  0.000000      0.000000  ivan_vazov  \n",
       "3  0.012470  0.012470  0.012470      0.012470  ivan_vazov  \n",
       "4  0.010323  0.010323  0.010323      0.010323  ivan_vazov  \n",
       "\n",
       "[5 rows x 43440 columns]"
      ]
     },
     "execution_count": 4,
     "metadata": {},
     "output_type": "execute_result"
    }
   ],
   "source": [
    "data_table_med.head()"
   ]
  },
  {
   "attachments": {},
   "cell_type": "markdown",
   "metadata": {},
   "source": [
    "# Let's answer some questions"
   ]
  },
  {
   "attachments": {},
   "cell_type": "markdown",
   "metadata": {},
   "source": [
    "## Which is the heaviest word?"
   ]
  },
  {
   "cell_type": "code",
   "execution_count": 5,
   "metadata": {},
   "outputs": [
    {
     "name": "stdout",
     "output_type": "stream",
     "text": [
      "Word = бай\n",
      "Weight = 0.8064816218628353\n",
      "Average for the column = 0.0326309208491857\n"
     ]
    }
   ],
   "source": [
    "# Get the maximum value for each word\n",
    "m = data_table_hard.iloc[:,:-1].max().max()\n",
    "m\n",
    "\n",
    "for i, value in data_table_hard.max().items():\n",
    "  if value == m:\n",
    "    idx = i\n",
    "    break\n",
    "\n",
    "print(f'Word = {idx}')\n",
    "print(f'Weight = {data_table_hard[idx].max()}')\n",
    "print(f'Average for the column = {data_table_hard[idx].mean()}')"
   ]
  },
  {
   "attachments": {},
   "cell_type": "markdown",
   "metadata": {},
   "source": [
    "## Who used the heaviest word?"
   ]
  },
  {
   "cell_type": "code",
   "execution_count": 6,
   "metadata": {},
   "outputs": [
    {
     "data": {
      "text/plain": [
       "'aleko-konstantinov'"
      ]
     },
     "execution_count": 6,
     "metadata": {},
     "output_type": "execute_result"
    }
   ],
   "source": [
    "for (i, val) in enumerate(data_table_hard[idx]):\n",
    "  if val == m:\n",
    "    idx = i\n",
    "    break\n",
    "\n",
    "data_table_hard.iloc[idx].author"
   ]
  },
  {
   "attachments": {},
   "cell_type": "markdown",
   "metadata": {},
   "source": [
    "## Which words have at least one weight greater than or equal to 0.5?"
   ]
  },
  {
   "cell_type": "code",
   "execution_count": 13,
   "metadata": {},
   "outputs": [
    {
     "name": "stdout",
     "output_type": "stream",
     "text": [
      "Word = , | Average for the column = 0.5613415661808946 | Max for the column = 0.7099054399932989\n"
     ]
    }
   ],
   "source": [
    "for i, value in data_table_soft.iloc[:,:-1].items():\n",
    "  if data_table_soft[i].max() >= 0.5:\n",
    "    print(f'Word = {i} | Average for the column = {data_table_soft[i].mean()} | Max for the column = {data_table_soft[i].max()}')"
   ]
  },
  {
   "cell_type": "code",
   "execution_count": 14,
   "metadata": {},
   "outputs": [
    {
     "name": "stdout",
     "output_type": "stream",
     "text": [
      "Word = , | Average for the column = 0.549142528584666 | Max for the column = 0.6836229106720194\n"
     ]
    }
   ],
   "source": [
    "for i, value in data_table_med.iloc[:,:-1].items():\n",
    "  if data_table_med[i].max() >= 0.5:\n",
    "    print(f'Word = {i} | Average for the column = {data_table_med[i].mean()} | Max for the column = {data_table_med[i].max()}')"
   ]
  },
  {
   "cell_type": "code",
   "execution_count": 12,
   "metadata": {},
   "outputs": [
    {
     "name": "stdout",
     "output_type": "stream",
     "text": [
      "Word = бай | Average for the column = 0.0326309208491857 | Max for the column = 0.8064816218628353\n",
      "Word = отец | Average for the column = 0.02139791732217985 | Max for the column = 0.585212726588462\n",
      "Word = паве | Average for the column = 0.018289820685463167 | Max for the column = 0.5209682945691196\n",
      "Word = сам | Average for the column = 0.026911703217085543 | Max for the column = 0.5955541796779334\n",
      "Word = станч | Average for the column = 0.0189552569625836 | Max for the column = 0.6774314503819312\n",
      "Word = стоян | Average for the column = 0.020977384916476032 | Max for the column = 0.6627278521384434\n",
      "Word = съди | Average for the column = 0.014511992503789 | Max for the column = 0.5030325841382938\n",
      "Word = хадж | Average for the column = 0.03687461207154488 | Max for the column = 0.5383208297733287\n"
     ]
    }
   ],
   "source": [
    "for i, value in data_table_hard.iloc[:,:-1].items():\n",
    "  if data_table_hard[i].max() >= 0.5:\n",
    "    print(f'Word = {i} | Average for the column = {data_table_hard[i].mean()} | Max for the column = {data_table_hard[i].max()}')"
   ]
  },
  {
   "attachments": {},
   "cell_type": "markdown",
   "metadata": {},
   "source": [
    "## Which words have overall weights greater than or equal to 0.04?"
   ]
  },
  {
   "cell_type": "code",
   "execution_count": 22,
   "metadata": {},
   "outputs": [
    {
     "name": "stdout",
     "output_type": "stream",
     "text": [
      "Word = ! | Average for the column = 0.06977257607836881 | Max for the column = 0.1597120415082993\n",
      "Word = , | Average for the column = 0.5613415661808946 | Max for the column = 0.7099054399932989\n",
      "Word = - | Average for the column = 0.05260045619025713 | Max for the column = 0.13130787536252336\n",
      "Word = . | Average for the column = 0.2897696793723903 | Max for the column = 0.45291685492887224\n",
      "Word = . — | Average for the column = 0.05396387398474607 | Max for the column = 0.14246432790019437\n",
      "Word = : | Average for the column = 0.051226594737210814 | Max for the column = 0.09835798282427902\n",
      "Word = в | Average for the column = 0.07606691526892152 | Max for the column = 0.14576439508557762\n",
      "Word = да | Average for the column = 0.11674692259261918 | Max for the column = 0.22993153550834242\n",
      "Word = е | Average for the column = 0.05236436113847171 | Max for the column = 0.13902837030736984\n",
      "Word = и | Average for the column = 0.2388355649079989 | Max for the column = 0.4008661931093004\n",
      "Word = на | Average for the column = 0.13552263496119593 | Max for the column = 0.25200905499420767\n",
      "Word = не | Average for the column = 0.07729424347061571 | Max for the column = 0.14858765313387887\n",
      "Word = от | Average for the column = 0.059405096776333356 | Max for the column = 0.14208966243636137\n",
      "Word = с | Average for the column = 0.06106210646589594 | Max for the column = 0.11640867708846048\n",
      "Word = се | Average for the column = 0.13489181428293986 | Max for the column = 0.22349769642670486\n",
      "Word = си | Average for the column = 0.07668865326452473 | Max for the column = 0.1823575743006695\n",
      "Word = — | Average for the column = 0.14917881645080128 | Max for the column = 0.30087124843874596\n"
     ]
    }
   ],
   "source": [
    "for i, value in data_table_soft.iloc[:,:-1].items():\n",
    "  if data_table_soft[i].mean() >= 0.05:\n",
    "    print(f'Word = {i} | Average for the column = {data_table_soft[i].mean()} | Max for the column = {data_table_soft[i].max()}')"
   ]
  },
  {
   "cell_type": "code",
   "execution_count": 23,
   "metadata": {},
   "outputs": [
    {
     "name": "stdout",
     "output_type": "stream",
     "text": [
      "Word = ! | Average for the column = 0.0684105609915675 | Max for the column = 0.1555784213970146\n",
      "Word = , | Average for the column = 0.549142528584666 | Max for the column = 0.6836229106720194\n",
      "Word = - | Average for the column = 0.05146255992464531 | Max for the column = 0.12917498283007783\n",
      "Word = . | Average for the column = 0.28343449367453216 | Max for the column = 0.44615754763478405\n",
      "Word = . — | Average for the column = 0.0528983271273568 | Max for the column = 0.1401011446561185\n",
      "Word = : | Average for the column = 0.050198005111511526 | Max for the column = 0.09991003263744407\n",
      "Word = в | Average for the column = 0.07441916268557601 | Max for the column = 0.1426780862292936\n",
      "Word = да | Average for the column = 0.1143182040969634 | Max for the column = 0.22605439645299683\n",
      "Word = е | Average for the column = 0.05127195227445762 | Max for the column = 0.1366840536692539\n",
      "Word = и | Average for the column = 0.2336460621425792 | Max for the column = 0.39408881883399627\n",
      "Word = на | Average for the column = 0.13242019638997904 | Max for the column = 0.24667319929477052\n",
      "Word = не | Average for the column = 0.07578699839402708 | Max for the column = 0.1459943477823024\n",
      "Word = от | Average for the column = 0.058130648873205154 | Max for the column = 0.13908115968569795\n",
      "Word = с | Average for the column = 0.05981315447025399 | Max for the column = 0.11394392476787153\n",
      "Word = се | Average for the column = 0.1319827020771556 | Max for the column = 0.21889746270862614\n",
      "Word = си | Average for the column = 0.07510376985220327 | Max for the column = 0.17917488136918933\n",
      "Word = съм | Average for the column = 0.07495005701511574 | Max for the column = 0.1542899358643289\n",
      "Word = — | Average for the column = 0.14595638425852878 | Max for the column = 0.2949465663026893\n"
     ]
    }
   ],
   "source": [
    "for i, value in data_table_med.iloc[:,:-1].items():\n",
    "  if data_table_med[i].mean() >= 0.05:\n",
    "    print(f'Word = {i} | Average for the column = {data_table_med[i].mean()} | Max for the column = {data_table_med[i].max()}')"
   ]
  },
  {
   "cell_type": "code",
   "execution_count": 27,
   "metadata": {},
   "outputs": [
    {
     "name": "stdout",
     "output_type": "stream",
     "text": [
      "No words\n",
      "Word = видя | Average for the column = 0.04713972249101454 | Max for the column = 0.14502823359395445\n",
      "Word = гледа | Average for the column = 0.041037508724677194 | Max for the column = 0.1375164269573554\n",
      "Word = дядо | Average for the column = 0.04500841818618992 | Max for the column = 0.40369569897411883\n",
      "Word = око | Average for the column = 0.04607970145913258 | Max for the column = 0.13977958095046406\n",
      "Word = ръка | Average for the column = 0.040651059208777235 | Max for the column = 0.12040313986092442\n"
     ]
    }
   ],
   "source": [
    "for i, value in data_table_hard.iloc[:,:-1].items():\n",
    "  if data_table_hard[i].mean() >= 0.05:\n",
    "    print(f'Word = {i} | Average for the column = {data_table_hard[i].mean()} | Max for the column = {data_table_hard[i].max()}')\n",
    "\n",
    "print('No words')\n",
    "\n",
    "for i, value in data_table_hard.iloc[:,:-1].items():\n",
    "  if data_table_hard[i].mean() >= 0.04:\n",
    "    print(f'Word = {i} | Average for the column = {data_table_hard[i].mean()} | Max for the column = {data_table_hard[i].max()}')"
   ]
  }
 ],
 "metadata": {
  "kernelspec": {
   "display_name": "venv",
   "language": "python",
   "name": "python3"
  },
  "language_info": {
   "codemirror_mode": {
    "name": "ipython",
    "version": 3
   },
   "file_extension": ".py",
   "mimetype": "text/x-python",
   "name": "python",
   "nbconvert_exporter": "python",
   "pygments_lexer": "ipython3",
   "version": "3.10.6"
  },
  "orig_nbformat": 4,
  "vscode": {
   "interpreter": {
    "hash": "f0d58e24dc67ad9783eb84df4952f180ee26c1094f6469aa467482cf58a4f907"
   }
  }
 },
 "nbformat": 4,
 "nbformat_minor": 2
}
