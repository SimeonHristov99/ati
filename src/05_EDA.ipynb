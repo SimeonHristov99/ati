{
 "cells": [
  {
   "attachments": {},
   "cell_type": "markdown",
   "metadata": {},
   "source": [
    "# Imports"
   ]
  },
  {
   "cell_type": "code",
   "execution_count": 1,
   "metadata": {},
   "outputs": [],
   "source": [
    "import pandas as pd\n",
    "pd.set_option('max_colwidth', 150)"
   ]
  },
  {
   "cell_type": "code",
   "execution_count": 2,
   "metadata": {},
   "outputs": [],
   "source": [
    "DATA_PATH_PREP = '../DATA/prepared'"
   ]
  },
  {
   "attachments": {},
   "cell_type": "markdown",
   "metadata": {},
   "source": [
    "# Load data"
   ]
  },
  {
   "cell_type": "code",
   "execution_count": 3,
   "metadata": {},
   "outputs": [],
   "source": [
    "data_table_soft = pd.read_pickle(f'{DATA_PATH_PREP}/04_data_table_soft.pkl')\n",
    "data_table_med = pd.read_pickle(f'{DATA_PATH_PREP}/04_data_table_med.pkl')\n",
    "data_table_hard = pd.read_pickle(f'{DATA_PATH_PREP}/04_data_table_hard.pkl')"
   ]
  },
  {
   "cell_type": "code",
   "execution_count": 4,
   "metadata": {},
   "outputs": [
    {
     "data": {
      "text/html": [
       "<div>\n",
       "<style scoped>\n",
       "    .dataframe tbody tr th:only-of-type {\n",
       "        vertical-align: middle;\n",
       "    }\n",
       "\n",
       "    .dataframe tbody tr th {\n",
       "        vertical-align: top;\n",
       "    }\n",
       "\n",
       "    .dataframe thead th {\n",
       "        text-align: right;\n",
       "    }\n",
       "</style>\n",
       "<table border=\"1\" class=\"dataframe\">\n",
       "  <thead>\n",
       "    <tr style=\"text-align: right;\">\n",
       "      <th></th>\n",
       "      <th></th>\n",
       "      <th>!</th>\n",
       "      <th>! (</th>\n",
       "      <th>! ( недей</th>\n",
       "      <th>! ( недей туря</th>\n",
       "      <th>! ?</th>\n",
       "      <th>! ? архиподлец</th>\n",
       "      <th>! ? архиподлец ти</th>\n",
       "      <th>! [</th>\n",
       "      <th>! [ *</th>\n",
       "      <th>...</th>\n",
       "      <th>… — ще прелея</th>\n",
       "      <th>… “</th>\n",
       "      <th>… “ какъв</th>\n",
       "      <th>… “ какъв ти</th>\n",
       "      <th>… “ —</th>\n",
       "      <th>… “ — опитам</th>\n",
       "      <th>… „</th>\n",
       "      <th>… „ солнце</th>\n",
       "      <th>… „ солнце позная</th>\n",
       "      <th>author</th>\n",
       "    </tr>\n",
       "  </thead>\n",
       "  <tbody>\n",
       "    <tr>\n",
       "      <th>0</th>\n",
       "      <td>0.0</td>\n",
       "      <td>0.026235</td>\n",
       "      <td>0.0</td>\n",
       "      <td>0.0</td>\n",
       "      <td>0.0</td>\n",
       "      <td>0.0</td>\n",
       "      <td>0.0</td>\n",
       "      <td>0.0</td>\n",
       "      <td>0.0</td>\n",
       "      <td>0.0</td>\n",
       "      <td>...</td>\n",
       "      <td>0.000000</td>\n",
       "      <td>0.0</td>\n",
       "      <td>0.0</td>\n",
       "      <td>0.0</td>\n",
       "      <td>0.0</td>\n",
       "      <td>0.0</td>\n",
       "      <td>0.0</td>\n",
       "      <td>0.0</td>\n",
       "      <td>0.0</td>\n",
       "      <td>aleko-konstantinov</td>\n",
       "    </tr>\n",
       "    <tr>\n",
       "      <th>1</th>\n",
       "      <td>0.0</td>\n",
       "      <td>0.080673</td>\n",
       "      <td>0.0</td>\n",
       "      <td>0.0</td>\n",
       "      <td>0.0</td>\n",
       "      <td>0.0</td>\n",
       "      <td>0.0</td>\n",
       "      <td>0.0</td>\n",
       "      <td>0.0</td>\n",
       "      <td>0.0</td>\n",
       "      <td>...</td>\n",
       "      <td>0.048383</td>\n",
       "      <td>0.0</td>\n",
       "      <td>0.0</td>\n",
       "      <td>0.0</td>\n",
       "      <td>0.0</td>\n",
       "      <td>0.0</td>\n",
       "      <td>0.0</td>\n",
       "      <td>0.0</td>\n",
       "      <td>0.0</td>\n",
       "      <td>aleko-konstantinov</td>\n",
       "    </tr>\n",
       "    <tr>\n",
       "      <th>2</th>\n",
       "      <td>0.0</td>\n",
       "      <td>0.087192</td>\n",
       "      <td>0.0</td>\n",
       "      <td>0.0</td>\n",
       "      <td>0.0</td>\n",
       "      <td>0.0</td>\n",
       "      <td>0.0</td>\n",
       "      <td>0.0</td>\n",
       "      <td>0.0</td>\n",
       "      <td>0.0</td>\n",
       "      <td>...</td>\n",
       "      <td>0.037352</td>\n",
       "      <td>0.0</td>\n",
       "      <td>0.0</td>\n",
       "      <td>0.0</td>\n",
       "      <td>0.0</td>\n",
       "      <td>0.0</td>\n",
       "      <td>0.0</td>\n",
       "      <td>0.0</td>\n",
       "      <td>0.0</td>\n",
       "      <td>aleko-konstantinov</td>\n",
       "    </tr>\n",
       "    <tr>\n",
       "      <th>3</th>\n",
       "      <td>0.0</td>\n",
       "      <td>0.000000</td>\n",
       "      <td>0.0</td>\n",
       "      <td>0.0</td>\n",
       "      <td>0.0</td>\n",
       "      <td>0.0</td>\n",
       "      <td>0.0</td>\n",
       "      <td>0.0</td>\n",
       "      <td>0.0</td>\n",
       "      <td>0.0</td>\n",
       "      <td>...</td>\n",
       "      <td>0.000000</td>\n",
       "      <td>0.0</td>\n",
       "      <td>0.0</td>\n",
       "      <td>0.0</td>\n",
       "      <td>0.0</td>\n",
       "      <td>0.0</td>\n",
       "      <td>0.0</td>\n",
       "      <td>0.0</td>\n",
       "      <td>0.0</td>\n",
       "      <td>aleko-konstantinov</td>\n",
       "    </tr>\n",
       "    <tr>\n",
       "      <th>4</th>\n",
       "      <td>0.0</td>\n",
       "      <td>0.071173</td>\n",
       "      <td>0.0</td>\n",
       "      <td>0.0</td>\n",
       "      <td>0.0</td>\n",
       "      <td>0.0</td>\n",
       "      <td>0.0</td>\n",
       "      <td>0.0</td>\n",
       "      <td>0.0</td>\n",
       "      <td>0.0</td>\n",
       "      <td>...</td>\n",
       "      <td>0.042686</td>\n",
       "      <td>0.0</td>\n",
       "      <td>0.0</td>\n",
       "      <td>0.0</td>\n",
       "      <td>0.0</td>\n",
       "      <td>0.0</td>\n",
       "      <td>0.0</td>\n",
       "      <td>0.0</td>\n",
       "      <td>0.0</td>\n",
       "      <td>aleko-konstantinov</td>\n",
       "    </tr>\n",
       "  </tbody>\n",
       "</table>\n",
       "<p>5 rows × 56420 columns</p>\n",
       "</div>"
      ],
      "text/plain": [
       "               !  ! (  ! ( недей  ! ( недей туря  ! ?  ! ? архиподлец  \\\n",
       "0  0.0  0.026235  0.0        0.0             0.0  0.0             0.0   \n",
       "1  0.0  0.080673  0.0        0.0             0.0  0.0             0.0   \n",
       "2  0.0  0.087192  0.0        0.0             0.0  0.0             0.0   \n",
       "3  0.0  0.000000  0.0        0.0             0.0  0.0             0.0   \n",
       "4  0.0  0.071173  0.0        0.0             0.0  0.0             0.0   \n",
       "\n",
       "   ! ? архиподлец ти  ! [  ! [ *  ...  … — ще прелея  … “  … “ какъв  \\\n",
       "0                0.0  0.0    0.0  ...       0.000000  0.0        0.0   \n",
       "1                0.0  0.0    0.0  ...       0.048383  0.0        0.0   \n",
       "2                0.0  0.0    0.0  ...       0.037352  0.0        0.0   \n",
       "3                0.0  0.0    0.0  ...       0.000000  0.0        0.0   \n",
       "4                0.0  0.0    0.0  ...       0.042686  0.0        0.0   \n",
       "\n",
       "   … “ какъв ти  … “ —  … “ — опитам  … „  … „ солнце  … „ солнце позная  \\\n",
       "0           0.0    0.0           0.0  0.0         0.0                0.0   \n",
       "1           0.0    0.0           0.0  0.0         0.0                0.0   \n",
       "2           0.0    0.0           0.0  0.0         0.0                0.0   \n",
       "3           0.0    0.0           0.0  0.0         0.0                0.0   \n",
       "4           0.0    0.0           0.0  0.0         0.0                0.0   \n",
       "\n",
       "               author  \n",
       "0  aleko-konstantinov  \n",
       "1  aleko-konstantinov  \n",
       "2  aleko-konstantinov  \n",
       "3  aleko-konstantinov  \n",
       "4  aleko-konstantinov  \n",
       "\n",
       "[5 rows x 56420 columns]"
      ]
     },
     "execution_count": 4,
     "metadata": {},
     "output_type": "execute_result"
    }
   ],
   "source": [
    "data_table_med.head()"
   ]
  },
  {
   "attachments": {},
   "cell_type": "markdown",
   "metadata": {},
   "source": [
    "# Let's answer some questions"
   ]
  },
  {
   "attachments": {},
   "cell_type": "markdown",
   "metadata": {},
   "source": [
    "## Which is the heaviest word?"
   ]
  },
  {
   "cell_type": "code",
   "execution_count": 5,
   "metadata": {},
   "outputs": [
    {
     "name": "stdout",
     "output_type": "stream",
     "text": [
      "Word = б\n",
      "Weight = 1.0\n",
      "Average for the column = 0.0021392556818512817\n"
     ]
    }
   ],
   "source": [
    "# Get the maximum value for each word\n",
    "m = data_table_hard.iloc[:,:-1].max().max()\n",
    "m\n",
    "\n",
    "for i, value in data_table_hard.max().items():\n",
    "  if value == m:\n",
    "    idx = i\n",
    "    break\n",
    "\n",
    "print(f'Word = {idx}')\n",
    "print(f'Weight = {data_table_hard[idx].max()}')\n",
    "print(f'Average for the column = {data_table_hard[idx].mean()}')"
   ]
  },
  {
   "attachments": {},
   "cell_type": "markdown",
   "metadata": {},
   "source": [
    "## Who used the heaviest word?"
   ]
  },
  {
   "cell_type": "code",
   "execution_count": 6,
   "metadata": {},
   "outputs": [
    {
     "data": {
      "text/plain": [
       "'dimityr-dimov'"
      ]
     },
     "execution_count": 6,
     "metadata": {},
     "output_type": "execute_result"
    }
   ],
   "source": [
    "for (i, val) in enumerate(data_table_hard[idx]):\n",
    "  if val == m:\n",
    "    idx = i\n",
    "    break\n",
    "\n",
    "data_table_hard.iloc[idx].author"
   ]
  },
  {
   "attachments": {},
   "cell_type": "markdown",
   "metadata": {},
   "source": [
    "## Which words have at least one weight greater than or equal to 0.5?"
   ]
  },
  {
   "cell_type": "code",
   "execution_count": 7,
   "metadata": {},
   "outputs": [
    {
     "name": "stdout",
     "output_type": "stream",
     "text": [
      "Word = . за | Average for the column = 0.0018579757684462847 | Max for the column = 0.5842713995953708\n",
      "Word = аше | Average for the column = 0.0018383919173986896 | Max for the column = 0.7575300600555545\n",
      "Word = б | Average for the column = 0.0017513268931221148 | Max for the column = 0.882470842914098\n",
      "Word = в неговия | Average for the column = 0.001591410763675833 | Max for the column = 0.6952577661660739\n",
      "Word = гато | Average for the column = 0.001408244603523974 | Max for the column = 0.7885204045362473\n",
      "Word = е си | Average for the column = 0.0016627118367077364 | Max for the column = 0.935729092605928\n",
      "Word = и към | Average for the column = 0.0012202830721281311 | Max for the column = 0.5832296439555177\n",
      "Word = к | Average for the column = 0.001898790170644136 | Max for the column = 0.6607412700578689\n",
      "Word = ма | Average for the column = 0.0013758348434116925 | Max for the column = 0.7733733785656738\n",
      "Word = мрачна | Average for the column = 0.0011206777487214876 | Max for the column = 0.5832296439555177\n",
      "Word = н | Average for the column = 0.0021018850168217445 | Max for the column = 0.7340771142752875\n",
      "Word = неговия | Average for the column = 0.001591410763675833 | Max for the column = 0.6952577661660739\n",
      "Word = някак | Average for the column = 0.0018279854553152634 | Max for the column = 0.6250118780015864\n",
      "Word = о | Average for the column = 0.0023594729655671788 | Max for the column = 0.6790661162930061\n",
      "Word = обичаше | Average for the column = 0.003685892025490514 | Max for the column = 0.5603526870250642\n",
      "Word = п | Average for the column = 0.002070383402150051 | Max for the column = 0.6780599079898194\n",
      "Word = правителство | Average for the column = 0.0013351438542302547 | Max for the column = 0.7018338434576313\n",
      "Word = правителство , | Average for the column = 0.0013351438542302547 | Max for the column = 0.7018338434576313\n",
      "Word = сички | Average for the column = 0.0019826199357083204 | Max for the column = 0.9809367148789407\n",
      "Word = ставря | Average for the column = 0.0017693631127295314 | Max for the column = 0.721240007221424\n",
      "Word = сутрин | Average for the column = 0.0017149886367497295 | Max for the column = 0.6150085947610757\n",
      "Word = той обичаше | Average for the column = 0.0018445854062350327 | Max for the column = 0.7856672219881381\n",
      "Word = чорлав | Average for the column = 0.0015310507173956463 | Max for the column = 0.7506137315839049\n"
     ]
    }
   ],
   "source": [
    "for i, value in data_table_soft.iloc[:,:-1].items():\n",
    "  if data_table_soft[i].max() >= 0.5:\n",
    "    print(f'Word = {i} | Average for the column = {data_table_soft[i].mean()} | Max for the column = {data_table_soft[i].max()}')"
   ]
  },
  {
   "cell_type": "code",
   "execution_count": 8,
   "metadata": {},
   "outputs": [
    {
     "name": "stdout",
     "output_type": "stream",
     "text": [
      "Word = . за | Average for the column = 0.0018639351212554292 | Max for the column = 0.5842713995953708\n",
      "Word = ам | Average for the column = 0.002002732420113333 | Max for the column = 0.7326644301250618\n",
      "Word = б | Average for the column = 0.0017458137950098814 | Max for the column = 0.8826571442439719\n",
      "Word = в негов | Average for the column = 0.0019790230648805206 | Max for the column = 0.9260828948556878\n",
      "Word = гато | Average for the column = 0.001430592790508311 | Max for the column = 0.8020999308873359\n",
      "Word = е си | Average for the column = 0.0016629699828098244 | Max for the column = 0.9358905039438304\n",
      "Word = и към | Average for the column = 0.0011167736161958085 | Max for the column = 0.5254352252326747\n",
      "Word = к | Average for the column = 0.0019015789364718904 | Max for the column = 0.6607412700578689\n",
      "Word = ма | Average for the column = 0.0013764110829120786 | Max for the column = 0.7733733785656738\n",
      "Word = мрачен | Average for the column = 0.0010577132035465917 | Max for the column = 0.5059339576708972\n",
      "Word = н | Average for the column = 0.0021034441776817273 | Max for the column = 0.7340771142752875\n",
      "Word = някак | Average for the column = 0.0018777054528239649 | Max for the column = 0.6516187028665298\n",
      "Word = о | Average for the column = 0.0023623012533065552 | Max for the column = 0.6790661162930061\n",
      "Word = обичам | Average for the column = 0.003921948880955893 | Max for the column = 0.5479642921845562\n",
      "Word = п | Average for the column = 0.0020758670030883884 | Max for the column = 0.6780599079898194\n",
      "Word = правителство | Average for the column = 0.0013354509860161097 | Max for the column = 0.7018338434576313\n",
      "Word = правителство , | Average for the column = 0.0013354509860161097 | Max for the column = 0.7018338434576313\n",
      "Word = сички | Average for the column = 0.001985419452258488 | Max for the column = 0.9809367148789407\n",
      "Word = ставра | Average for the column = 0.0017732715851666726 | Max for the column = 0.721240007221424\n",
      "Word = сутрин | Average for the column = 0.0019391104327164555 | Max for the column = 0.597189836543231\n",
      "Word = той обичам | Average for the column = 0.0018639565640199988 | Max for the column = 0.7934907657648987\n",
      "Word = чорлав | Average for the column = 0.0015354330433692406 | Max for the column = 0.7506137315839049\n"
     ]
    }
   ],
   "source": [
    "for i, value in data_table_med.iloc[:,:-1].items():\n",
    "  if data_table_med[i].max() >= 0.5:\n",
    "    print(f'Word = {i} | Average for the column = {data_table_med[i].mean()} | Max for the column = {data_table_med[i].max()}')"
   ]
  },
  {
   "cell_type": "code",
   "execution_count": 9,
   "metadata": {},
   "outputs": [
    {
     "name": "stdout",
     "output_type": "stream",
     "text": [
      "Word = ам | Average for the column = 0.0024205600061905316 | Max for the column = 0.7472262538265759\n",
      "Word = б | Average for the column = 0.0021392556818512817 | Max for the column = 1.0\n",
      "Word = болен | Average for the column = 0.0013897724887845652 | Max for the column = 0.5177069084480901\n",
      "Word = гато | Average for the column = 0.0014802438845176432 | Max for the column = 0.8020999308873359\n",
      "Word = допълн | Average for the column = 0.0011052000143841505 | Max for the column = 0.5254109680310289\n",
      "Word = ен | Average for the column = 0.0016037156009622712 | Max for the column = 0.6222094001101838\n",
      "Word = забел | Average for the column = 0.002606823953166501 | Max for the column = 1.0\n",
      "Word = изпсува | Average for the column = 0.0010740246604169534 | Max for the column = 0.5773502691896257\n",
      "Word = к | Average for the column = 0.0029359747144414227 | Max for the column = 0.682807716024175\n",
      "Word = книга допълн | Average for the column = 0.0011052000143841505 | Max for the column = 0.5254109680310289\n",
      "Word = ла | Average for the column = 0.0010568537878691364 | Max for the column = 0.5505513139479332\n",
      "Word = ма | Average for the column = 0.0017872415412214496 | Max for the column = 1.0\n",
      "Word = мрачен | Average for the column = 0.00135754081066708 | Max for the column = 0.6860675209079812\n",
      "Word = негов | Average for the column = 0.006999346913490419 | Max for the column = 1.0\n",
      "Word = нося | Average for the column = 0.004805172928959715 | Max for the column = 1.0\n",
      "Word = няка | Average for the column = 0.002312776357338977 | Max for the column = 0.6645697296689802\n",
      "Word = о | Average for the column = 0.003544719781783671 | Max for the column = 1.0\n",
      "Word = обича | Average for the column = 0.006449660278758194 | Max for the column = 1.0\n",
      "Word = п | Average for the column = 0.0025187111942520297 | Max for the column = 0.6930642115363382\n",
      "Word = песен | Average for the column = 0.0037536913154917117 | Max for the column = 1.0\n",
      "Word = повтаря | Average for the column = 0.0015254247011381083 | Max for the column = 0.6396910197929239\n",
      "Word = повтаря вечер | Average for the column = 0.0015254247011381083 | Max for the column = 0.6396910197929239\n",
      "Word = правителств | Average for the column = 0.0020092775694727258 | Max for the column = 1.0\n",
      "Word = преструва болен | Average for the column = 0.001285646960681986 | Max for the column = 0.5551455115426699\n",
      "Word = пречупва | Average for the column = 0.001296616606070786 | Max for the column = 0.621128466931682\n",
      "Word = прогон | Average for the column = 0.0016966435750491653 | Max for the column = 0.740013206114259\n",
      "Word = река | Average for the column = 0.005216467322825859 | Max for the column = 1.0\n",
      "Word = свят | Average for the column = 0.002190822884915026 | Max for the column = 0.7021456003311548\n",
      "Word = сичк | Average for the column = 0.002397633136091467 | Max for the column = 1.0\n",
      "Word = ставр | Average for the column = 0.0020572544753803255 | Max for the column = 0.7208758552535337\n",
      "Word = сутри | Average for the column = 0.0023302563170753236 | Max for the column = 0.597189836543231\n",
      "Word = твоя | Average for the column = 0.001772317526529477 | Max for the column = 0.6037294291496282\n",
      "Word = твоя работ | Average for the column = 0.0013815238389110651 | Max for the column = 0.7312467033188035\n",
      "Word = тичешком | Average for the column = 0.0010740246604169534 | Max for the column = 0.5773502691896257\n",
      "Word = тичешком изпсува | Average for the column = 0.0010740246604169534 | Max for the column = 0.5773502691896257\n",
      "Word = увер | Average for the column = 0.0014949784513028498 | Max for the column = 0.6706698145507283\n",
      "Word = увер работ | Average for the column = 0.0014949784513028498 | Max for the column = 0.6706698145507283\n",
      "Word = черкв пречупва | Average for the column = 0.001296616606070786 | Max for the column = 0.621128466931682\n",
      "Word = чорлав | Average for the column = 0.0018055556048375825 | Max for the column = 0.7305981268370796\n"
     ]
    }
   ],
   "source": [
    "for i, value in data_table_hard.iloc[:,:-1].items():\n",
    "  if data_table_hard[i].max() >= 0.5:\n",
    "    print(f'Word = {i} | Average for the column = {data_table_hard[i].mean()} | Max for the column = {data_table_hard[i].max()}')"
   ]
  }
 ],
 "metadata": {
  "kernelspec": {
   "display_name": "venv",
   "language": "python",
   "name": "python3"
  },
  "language_info": {
   "codemirror_mode": {
    "name": "ipython",
    "version": 3
   },
   "file_extension": ".py",
   "mimetype": "text/x-python",
   "name": "python",
   "nbconvert_exporter": "python",
   "pygments_lexer": "ipython3",
   "version": "3.10.6 (main, Nov 14 2022, 16:10:14) [GCC 11.3.0]"
  },
  "orig_nbformat": 4,
  "vscode": {
   "interpreter": {
    "hash": "f0d58e24dc67ad9783eb84df4952f180ee26c1094f6469aa467482cf58a4f907"
   }
  }
 },
 "nbformat": 4,
 "nbformat_minor": 2
}
