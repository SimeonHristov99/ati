{
 "cells": [
  {
   "attachments": {},
   "cell_type": "markdown",
   "metadata": {},
   "source": [
    "# Imports"
   ]
  },
  {
   "cell_type": "code",
   "execution_count": 1,
   "metadata": {},
   "outputs": [],
   "source": [
    "import pandas as pd\n",
    "pd.set_option('max_colwidth', 150)"
   ]
  },
  {
   "cell_type": "code",
   "execution_count": 2,
   "metadata": {},
   "outputs": [],
   "source": [
    "DATA_PATH_PREP = '../DATA/prepared'"
   ]
  },
  {
   "attachments": {},
   "cell_type": "markdown",
   "metadata": {},
   "source": [
    "# Load data"
   ]
  },
  {
   "cell_type": "code",
   "execution_count": 8,
   "metadata": {},
   "outputs": [],
   "source": [
    "data_table_soft = pd.read_pickle(f'{DATA_PATH_PREP}/04_data_table_soft.pkl')\n",
    "data_table_med = pd.read_pickle(f'{DATA_PATH_PREP}/04_data_table_med.pkl')\n",
    "data_table_hard = pd.read_pickle(f'{DATA_PATH_PREP}/04_data_table_hard.pkl')"
   ]
  },
  {
   "cell_type": "code",
   "execution_count": 9,
   "metadata": {},
   "outputs": [
    {
     "data": {
      "text/html": [
       "<div>\n",
       "<style scoped>\n",
       "    .dataframe tbody tr th:only-of-type {\n",
       "        vertical-align: middle;\n",
       "    }\n",
       "\n",
       "    .dataframe tbody tr th {\n",
       "        vertical-align: top;\n",
       "    }\n",
       "\n",
       "    .dataframe thead th {\n",
       "        text-align: right;\n",
       "    }\n",
       "</style>\n",
       "<table border=\"1\" class=\"dataframe\">\n",
       "  <thead>\n",
       "    <tr style=\"text-align: right;\">\n",
       "      <th></th>\n",
       "      <th></th>\n",
       "      <th>!</th>\n",
       "      <th>! !</th>\n",
       "      <th>! ! —</th>\n",
       "      <th>! ! — извикам</th>\n",
       "      <th>! ! …</th>\n",
       "      <th>! ! … “</th>\n",
       "      <th>! $</th>\n",
       "      <th>! $ id</th>\n",
       "      <th>! $ id =</th>\n",
       "      <th>...</th>\n",
       "      <th>… „ десятая индикт</th>\n",
       "      <th>… „ живот</th>\n",
       "      <th>… „ живот ли</th>\n",
       "      <th>… „ ну</th>\n",
       "      <th>… „ ну ,</th>\n",
       "      <th>… „ солнце</th>\n",
       "      <th>… „ солнце позная</th>\n",
       "      <th>… „ я</th>\n",
       "      <th>… „ я тебя</th>\n",
       "      <th>author</th>\n",
       "    </tr>\n",
       "  </thead>\n",
       "  <tbody>\n",
       "    <tr>\n",
       "      <th>0</th>\n",
       "      <td>0.0</td>\n",
       "      <td>0.075845</td>\n",
       "      <td>0.000000</td>\n",
       "      <td>0.000000</td>\n",
       "      <td>0.000000</td>\n",
       "      <td>0.00000</td>\n",
       "      <td>0.00000</td>\n",
       "      <td>0.0</td>\n",
       "      <td>0.0</td>\n",
       "      <td>0.0</td>\n",
       "      <td>...</td>\n",
       "      <td>0.0</td>\n",
       "      <td>0.0</td>\n",
       "      <td>0.0</td>\n",
       "      <td>0.000000</td>\n",
       "      <td>0.000000</td>\n",
       "      <td>0.0</td>\n",
       "      <td>0.0</td>\n",
       "      <td>0.0</td>\n",
       "      <td>0.0</td>\n",
       "      <td>aleko-konstantinov</td>\n",
       "    </tr>\n",
       "    <tr>\n",
       "      <th>1</th>\n",
       "      <td>0.0</td>\n",
       "      <td>0.132646</td>\n",
       "      <td>0.002179</td>\n",
       "      <td>0.001164</td>\n",
       "      <td>0.001164</td>\n",
       "      <td>0.00109</td>\n",
       "      <td>0.00109</td>\n",
       "      <td>0.0</td>\n",
       "      <td>0.0</td>\n",
       "      <td>0.0</td>\n",
       "      <td>...</td>\n",
       "      <td>0.0</td>\n",
       "      <td>0.0</td>\n",
       "      <td>0.0</td>\n",
       "      <td>0.001202</td>\n",
       "      <td>0.001202</td>\n",
       "      <td>0.0</td>\n",
       "      <td>0.0</td>\n",
       "      <td>0.0</td>\n",
       "      <td>0.0</td>\n",
       "      <td>aleko-konstantinov</td>\n",
       "    </tr>\n",
       "    <tr>\n",
       "      <th>2</th>\n",
       "      <td>0.0</td>\n",
       "      <td>0.085955</td>\n",
       "      <td>0.000000</td>\n",
       "      <td>0.000000</td>\n",
       "      <td>0.000000</td>\n",
       "      <td>0.00000</td>\n",
       "      <td>0.00000</td>\n",
       "      <td>0.0</td>\n",
       "      <td>0.0</td>\n",
       "      <td>0.0</td>\n",
       "      <td>...</td>\n",
       "      <td>0.0</td>\n",
       "      <td>0.0</td>\n",
       "      <td>0.0</td>\n",
       "      <td>0.000000</td>\n",
       "      <td>0.000000</td>\n",
       "      <td>0.0</td>\n",
       "      <td>0.0</td>\n",
       "      <td>0.0</td>\n",
       "      <td>0.0</td>\n",
       "      <td>aleko-konstantinov</td>\n",
       "    </tr>\n",
       "    <tr>\n",
       "      <th>3</th>\n",
       "      <td>0.0</td>\n",
       "      <td>0.133420</td>\n",
       "      <td>0.002521</td>\n",
       "      <td>0.001347</td>\n",
       "      <td>0.001347</td>\n",
       "      <td>0.00126</td>\n",
       "      <td>0.00126</td>\n",
       "      <td>0.0</td>\n",
       "      <td>0.0</td>\n",
       "      <td>0.0</td>\n",
       "      <td>...</td>\n",
       "      <td>0.0</td>\n",
       "      <td>0.0</td>\n",
       "      <td>0.0</td>\n",
       "      <td>0.000000</td>\n",
       "      <td>0.000000</td>\n",
       "      <td>0.0</td>\n",
       "      <td>0.0</td>\n",
       "      <td>0.0</td>\n",
       "      <td>0.0</td>\n",
       "      <td>aleko-konstantinov</td>\n",
       "    </tr>\n",
       "    <tr>\n",
       "      <th>4</th>\n",
       "      <td>0.0</td>\n",
       "      <td>0.122937</td>\n",
       "      <td>0.000000</td>\n",
       "      <td>0.000000</td>\n",
       "      <td>0.000000</td>\n",
       "      <td>0.00000</td>\n",
       "      <td>0.00000</td>\n",
       "      <td>0.0</td>\n",
       "      <td>0.0</td>\n",
       "      <td>0.0</td>\n",
       "      <td>...</td>\n",
       "      <td>0.0</td>\n",
       "      <td>0.0</td>\n",
       "      <td>0.0</td>\n",
       "      <td>0.000000</td>\n",
       "      <td>0.000000</td>\n",
       "      <td>0.0</td>\n",
       "      <td>0.0</td>\n",
       "      <td>0.0</td>\n",
       "      <td>0.0</td>\n",
       "      <td>aleko-konstantinov</td>\n",
       "    </tr>\n",
       "  </tbody>\n",
       "</table>\n",
       "<p>5 rows × 455052 columns</p>\n",
       "</div>"
      ],
      "text/plain": [
       "               !       ! !     ! ! —  ! ! — извикам    ! ! …  ! ! … “  ! $  \\\n",
       "0  0.0  0.075845  0.000000  0.000000       0.000000  0.00000  0.00000  0.0   \n",
       "1  0.0  0.132646  0.002179  0.001164       0.001164  0.00109  0.00109  0.0   \n",
       "2  0.0  0.085955  0.000000  0.000000       0.000000  0.00000  0.00000  0.0   \n",
       "3  0.0  0.133420  0.002521  0.001347       0.001347  0.00126  0.00126  0.0   \n",
       "4  0.0  0.122937  0.000000  0.000000       0.000000  0.00000  0.00000  0.0   \n",
       "\n",
       "   ! $ id  ! $ id =  ...  … „ десятая индикт  … „ живот  … „ живот ли  \\\n",
       "0     0.0       0.0  ...                 0.0        0.0           0.0   \n",
       "1     0.0       0.0  ...                 0.0        0.0           0.0   \n",
       "2     0.0       0.0  ...                 0.0        0.0           0.0   \n",
       "3     0.0       0.0  ...                 0.0        0.0           0.0   \n",
       "4     0.0       0.0  ...                 0.0        0.0           0.0   \n",
       "\n",
       "     … „ ну  … „ ну ,  … „ солнце  … „ солнце позная  … „ я  … „ я тебя  \\\n",
       "0  0.000000  0.000000         0.0                0.0    0.0         0.0   \n",
       "1  0.001202  0.001202         0.0                0.0    0.0         0.0   \n",
       "2  0.000000  0.000000         0.0                0.0    0.0         0.0   \n",
       "3  0.000000  0.000000         0.0                0.0    0.0         0.0   \n",
       "4  0.000000  0.000000         0.0                0.0    0.0         0.0   \n",
       "\n",
       "               author  \n",
       "0  aleko-konstantinov  \n",
       "1  aleko-konstantinov  \n",
       "2  aleko-konstantinov  \n",
       "3  aleko-konstantinov  \n",
       "4  aleko-konstantinov  \n",
       "\n",
       "[5 rows x 455052 columns]"
      ]
     },
     "execution_count": 9,
     "metadata": {},
     "output_type": "execute_result"
    }
   ],
   "source": [
    "data_table_med.head()"
   ]
  },
  {
   "attachments": {},
   "cell_type": "markdown",
   "metadata": {},
   "source": [
    "# Let's answer some questions"
   ]
  },
  {
   "attachments": {},
   "cell_type": "markdown",
   "metadata": {},
   "source": [
    "## Which is the heaviest word?"
   ]
  },
  {
   "cell_type": "code",
   "execution_count": 10,
   "metadata": {},
   "outputs": [
    {
     "name": "stdout",
     "output_type": "stream",
     "text": [
      "Word = стоян\n",
      "Weight = 0.5070031858170149\n",
      "Average for the column = 0.07029140754136273\n"
     ]
    }
   ],
   "source": [
    "# Get the maximum value for each word\n",
    "m = data_table_hard.iloc[:,:-1].max().max()\n",
    "m\n",
    "\n",
    "for i, value in data_table_hard.max().items():\n",
    "  if value == m:\n",
    "    idx = i\n",
    "    break\n",
    "\n",
    "print(f'Word = {idx}')\n",
    "print(f'Weight = {data_table_hard[idx].max()}')\n",
    "print(f'Average for the column = {data_table_hard[idx].mean()}')"
   ]
  },
  {
   "attachments": {},
   "cell_type": "markdown",
   "metadata": {},
   "source": [
    "## Who used the heaviest word?"
   ]
  },
  {
   "cell_type": "code",
   "execution_count": 11,
   "metadata": {},
   "outputs": [
    {
     "data": {
      "text/plain": [
       "'dimityr-talev'"
      ]
     },
     "execution_count": 11,
     "metadata": {},
     "output_type": "execute_result"
    }
   ],
   "source": [
    "for (i, val) in enumerate(data_table_hard[idx]):\n",
    "  if val == m:\n",
    "    idx = i\n",
    "    break\n",
    "\n",
    "data_table_hard.iloc[idx].author"
   ]
  },
  {
   "attachments": {},
   "cell_type": "markdown",
   "metadata": {},
   "source": [
    "## Which words have at least one weight greater than or equal to 0.5?"
   ]
  },
  {
   "cell_type": "code",
   "execution_count": 12,
   "metadata": {},
   "outputs": [
    {
     "name": "stdout",
     "output_type": "stream",
     "text": [
      "Word = , | Average for the column = 0.5710060474838788 | Max for the column = 0.6621005790306085\n"
     ]
    }
   ],
   "source": [
    "for i, value in data_table_soft.iloc[:,:-1].items():\n",
    "  if data_table_soft[i].max() >= 0.5:\n",
    "    print(f'Word = {i} | Average for the column = {data_table_soft[i].mean()} | Max for the column = {data_table_soft[i].max()}')"
   ]
  },
  {
   "cell_type": "code",
   "execution_count": 13,
   "metadata": {},
   "outputs": [
    {
     "name": "stdout",
     "output_type": "stream",
     "text": [
      "Word = , | Average for the column = 0.566941865205267 | Max for the column = 0.6573983385630899\n"
     ]
    }
   ],
   "source": [
    "for i, value in data_table_med.iloc[:,:-1].items():\n",
    "  if data_table_med[i].max() >= 0.5:\n",
    "    print(f'Word = {i} | Average for the column = {data_table_med[i].mean()} | Max for the column = {data_table_med[i].max()}')"
   ]
  },
  {
   "cell_type": "code",
   "execution_count": 14,
   "metadata": {},
   "outputs": [
    {
     "name": "stdout",
     "output_type": "stream",
     "text": [
      "Word = люцка | Average for the column = 0.06103426187665908 | Max for the column = 0.504904258895389\n",
      "Word = стоян | Average for the column = 0.07029140754136273 | Max for the column = 0.5070031858170149\n"
     ]
    }
   ],
   "source": [
    "for i, value in data_table_hard.iloc[:,:-1].items():\n",
    "  if data_table_hard[i].max() >= 0.5:\n",
    "    print(f'Word = {i} | Average for the column = {data_table_hard[i].mean()} | Max for the column = {data_table_hard[i].max()}')"
   ]
  },
  {
   "attachments": {},
   "cell_type": "markdown",
   "metadata": {},
   "source": [
    "## Which words have overall weights greater than or equal to 0.04?"
   ]
  },
  {
   "cell_type": "code",
   "execution_count": 15,
   "metadata": {},
   "outputs": [
    {
     "name": "stdout",
     "output_type": "stream",
     "text": [
      "Word = ! | Average for the column = 0.05932885734880903 | Max for the column = 0.14004315059095443\n",
      "Word = , | Average for the column = 0.5710060474838788 | Max for the column = 0.6621005790306085\n",
      "Word = . | Average for the column = 0.32688170690696583 | Max for the column = 0.45193956828244175\n",
      "Word = . — | Average for the column = 0.05925989553193512 | Max for the column = 0.1436267736923285\n",
      "Word = в | Average for the column = 0.09339244542827539 | Max for the column = 0.14533333430023787\n",
      "Word = да | Average for the column = 0.14365350360547174 | Max for the column = 0.2025426869320565\n",
      "Word = и | Average for the column = 0.2733990295796814 | Max for the column = 0.3949180781043767\n",
      "Word = му | Average for the column = 0.06052545042843296 | Max for the column = 0.12632265385700847\n",
      "Word = на | Average for the column = 0.16520074854928726 | Max for the column = 0.25319180644689343\n",
      "Word = не | Average for the column = 0.08656263578062304 | Max for the column = 0.11800922228938653\n",
      "Word = от | Average for the column = 0.0762990965029646 | Max for the column = 0.1438165941258615\n",
      "Word = по | Average for the column = 0.05154261619888102 | Max for the column = 0.09547986411248242\n",
      "Word = с | Average for the column = 0.08374819048269512 | Max for the column = 0.12737903156981284\n",
      "Word = се | Average for the column = 0.17057848823424315 | Max for the column = 0.24481138774307495\n",
      "Word = си | Average for the column = 0.09462889682895216 | Max for the column = 0.13792235680160386\n",
      "Word = той | Average for the column = 0.05430490489098674 | Max for the column = 0.08766360292048199\n",
      "Word = — | Average for the column = 0.1762976911813512 | Max for the column = 0.32961437778513764\n"
     ]
    }
   ],
   "source": [
    "for i, value in data_table_soft.iloc[:,:-1].items():\n",
    "  if data_table_soft[i].mean() >= 0.05:\n",
    "    print(f'Word = {i} | Average for the column = {data_table_soft[i].mean()} | Max for the column = {data_table_soft[i].max()}')"
   ]
  },
  {
   "cell_type": "code",
   "execution_count": 16,
   "metadata": {},
   "outputs": [
    {
     "name": "stdout",
     "output_type": "stream",
     "text": [
      "Word = ! | Average for the column = 0.05889927868309328 | Max for the column = 0.1390722996736767\n",
      "Word = , | Average for the column = 0.566941865205267 | Max for the column = 0.6573983385630899\n",
      "Word = . | Average for the column = 0.3244450288903184 | Max for the column = 0.4466800848119174\n",
      "Word = . — | Average for the column = 0.058766478236033017 | Max for the column = 0.1430065985688305\n",
      "Word = в | Average for the column = 0.09272474484019431 | Max for the column = 0.14360719586217238\n",
      "Word = да | Average for the column = 0.14261259827720787 | Max for the column = 0.2011032608645475\n",
      "Word = и | Average for the column = 0.27145879255909705 | Max for the column = 0.39194065183009014\n",
      "Word = който | Average for the column = 0.05051792634613549 | Max for the column = 0.09342287195463313\n",
      "Word = на | Average for the column = 0.16396949993735907 | Max for the column = 0.2499978370707698\n",
      "Word = не | Average for the column = 0.08593392013140787 | Max for the column = 0.11743782613692878\n",
      "Word = негов | Average for the column = 0.06068813044519672 | Max for the column = 0.128362358649203\n",
      "Word = от | Average for the column = 0.07572856199678876 | Max for the column = 0.1420365618309512\n",
      "Word = по | Average for the column = 0.0511677386827035 | Max for the column = 0.09541290791797741\n",
      "Word = с | Average for the column = 0.08313235921145112 | Max for the column = 0.12658676108993214\n",
      "Word = се | Average for the column = 0.16933828660662578 | Max for the column = 0.24306421410675666\n",
      "Word = си | Average for the column = 0.09397060359663413 | Max for the column = 0.13720552663316038\n",
      "Word = съм | Average for the column = 0.08179147540482973 | Max for the column = 0.12623331553010794\n",
      "Word = той | Average for the column = 0.053907473007606274 | Max for the column = 0.08701289215364162\n",
      "Word = — | Average for the column = 0.17489918442539618 | Max for the column = 0.32535906488950894\n"
     ]
    }
   ],
   "source": [
    "for i, value in data_table_med.iloc[:,:-1].items():\n",
    "  if data_table_med[i].mean() >= 0.05:\n",
    "    print(f'Word = {i} | Average for the column = {data_table_med[i].mean()} | Max for the column = {data_table_med[i].max()}')"
   ]
  },
  {
   "cell_type": "code",
   "execution_count": 18,
   "metadata": {},
   "outputs": [
    {
     "name": "stdout",
     "output_type": "stream",
     "text": [
      "Word = бай | Average for the column = 0.05901786049033716 | Max for the column = 0.41268918957137957\n",
      "Word = бай ганьо | Average for the column = 0.05854239212766738 | Max for the column = 0.4699470911636758\n",
      "Word = ганьо | Average for the column = 0.06070332377777243 | Max for the column = 0.4811363076199538\n",
      "Word = люцка | Average for the column = 0.06103426187665908 | Max for the column = 0.504904258895389\n",
      "Word = паве | Average for the column = 0.05305714990979245 | Max for the column = 0.3916974218968571\n",
      "Word = смион | Average for the column = 0.05252686540408573 | Max for the column = 0.40536147832006697\n",
      "Word = стоян | Average for the column = 0.07029140754136273 | Max for the column = 0.5070031858170149\n",
      "Word = хадж | Average for the column = 0.0635159908558476 | Max for the column = 0.39258505204105437\n",
      "Word = хадж смион | Average for the column = 0.0519954774163913 | Max for the column = 0.39982522410162075\n"
     ]
    }
   ],
   "source": [
    "for i, value in data_table_hard.iloc[:,:-1].items():\n",
    "  if data_table_hard[i].mean() >= 0.05:\n",
    "    print(f'Word = {i} | Average for the column = {data_table_hard[i].mean()} | Max for the column = {data_table_hard[i].max()}')"
   ]
  }
 ],
 "metadata": {
  "kernelspec": {
   "display_name": "venv",
   "language": "python",
   "name": "python3"
  },
  "language_info": {
   "codemirror_mode": {
    "name": "ipython",
    "version": 3
   },
   "file_extension": ".py",
   "mimetype": "text/x-python",
   "name": "python",
   "nbconvert_exporter": "python",
   "pygments_lexer": "ipython3",
   "version": "3.10.6 (main, Nov 14 2022, 16:10:14) [GCC 11.3.0]"
  },
  "orig_nbformat": 4,
  "vscode": {
   "interpreter": {
    "hash": "f0d58e24dc67ad9783eb84df4952f180ee26c1094f6469aa467482cf58a4f907"
   }
  }
 },
 "nbformat": 4,
 "nbformat_minor": 2
}
