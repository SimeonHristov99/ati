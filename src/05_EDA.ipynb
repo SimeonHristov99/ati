{
 "cells": [
  {
   "attachments": {},
   "cell_type": "markdown",
   "metadata": {},
   "source": [
    "# Imports"
   ]
  },
  {
   "cell_type": "code",
   "execution_count": 1,
   "metadata": {},
   "outputs": [],
   "source": [
    "import pandas as pd\n",
    "pd.set_option('max_colwidth', 150)"
   ]
  },
  {
   "cell_type": "code",
   "execution_count": 2,
   "metadata": {},
   "outputs": [],
   "source": [
    "DATA_PATH_PREP = '../DATA/prepared'"
   ]
  },
  {
   "attachments": {},
   "cell_type": "markdown",
   "metadata": {},
   "source": [
    "# Load data"
   ]
  },
  {
   "cell_type": "code",
   "execution_count": 3,
   "metadata": {},
   "outputs": [],
   "source": [
    "data_table_soft = pd.read_pickle(f'{DATA_PATH_PREP}/04_data_table_soft.pkl')\n",
    "data_table_med = pd.read_pickle(f'{DATA_PATH_PREP}/04_data_table_med.pkl')\n",
    "data_table_hard = pd.read_pickle(f'{DATA_PATH_PREP}/04_data_table_hard.pkl')"
   ]
  },
  {
   "cell_type": "code",
   "execution_count": 4,
   "metadata": {},
   "outputs": [
    {
     "data": {
      "text/html": [
       "<div>\n",
       "<style scoped>\n",
       "    .dataframe tbody tr th:only-of-type {\n",
       "        vertical-align: middle;\n",
       "    }\n",
       "\n",
       "    .dataframe tbody tr th {\n",
       "        vertical-align: top;\n",
       "    }\n",
       "\n",
       "    .dataframe thead th {\n",
       "        text-align: right;\n",
       "    }\n",
       "</style>\n",
       "<table border=\"1\" class=\"dataframe\">\n",
       "  <thead>\n",
       "    <tr style=\"text-align: right;\">\n",
       "      <th></th>\n",
       "      <th>!</th>\n",
       "      <th>! !</th>\n",
       "      <th>! ! —</th>\n",
       "      <th>! ! — извикам</th>\n",
       "      <th>! ! …</th>\n",
       "      <th>! ! … “</th>\n",
       "      <th>! $</th>\n",
       "      <th>! $ id</th>\n",
       "      <th>! $ id =</th>\n",
       "      <th>! (</th>\n",
       "      <th>...</th>\n",
       "      <th>… „ десятая индикт</th>\n",
       "      <th>… „ живот</th>\n",
       "      <th>… „ живот ли</th>\n",
       "      <th>… „ ну</th>\n",
       "      <th>… „ ну ,</th>\n",
       "      <th>… „ солнце</th>\n",
       "      <th>… „ солнце позная</th>\n",
       "      <th>… „ я</th>\n",
       "      <th>… „ я тебя</th>\n",
       "      <th>author</th>\n",
       "    </tr>\n",
       "  </thead>\n",
       "  <tbody>\n",
       "    <tr>\n",
       "      <th>0</th>\n",
       "      <td>0.078696</td>\n",
       "      <td>0.000000</td>\n",
       "      <td>0.000000</td>\n",
       "      <td>0.000000</td>\n",
       "      <td>0.000000</td>\n",
       "      <td>0.000000</td>\n",
       "      <td>0.0</td>\n",
       "      <td>0.0</td>\n",
       "      <td>0.0</td>\n",
       "      <td>0.000000</td>\n",
       "      <td>...</td>\n",
       "      <td>0.0</td>\n",
       "      <td>0.0</td>\n",
       "      <td>0.0</td>\n",
       "      <td>0.000000</td>\n",
       "      <td>0.000000</td>\n",
       "      <td>0.0</td>\n",
       "      <td>0.0</td>\n",
       "      <td>0.000000</td>\n",
       "      <td>0.000000</td>\n",
       "      <td>aleko-konstantinov</td>\n",
       "    </tr>\n",
       "    <tr>\n",
       "      <th>1</th>\n",
       "      <td>0.133665</td>\n",
       "      <td>0.001895</td>\n",
       "      <td>0.000991</td>\n",
       "      <td>0.000991</td>\n",
       "      <td>0.000947</td>\n",
       "      <td>0.000947</td>\n",
       "      <td>0.0</td>\n",
       "      <td>0.0</td>\n",
       "      <td>0.0</td>\n",
       "      <td>0.000877</td>\n",
       "      <td>...</td>\n",
       "      <td>0.0</td>\n",
       "      <td>0.0</td>\n",
       "      <td>0.0</td>\n",
       "      <td>0.001016</td>\n",
       "      <td>0.001016</td>\n",
       "      <td>0.0</td>\n",
       "      <td>0.0</td>\n",
       "      <td>0.000000</td>\n",
       "      <td>0.000000</td>\n",
       "      <td>aleko-konstantinov</td>\n",
       "    </tr>\n",
       "    <tr>\n",
       "      <th>2</th>\n",
       "      <td>0.141374</td>\n",
       "      <td>0.001841</td>\n",
       "      <td>0.000963</td>\n",
       "      <td>0.000963</td>\n",
       "      <td>0.000920</td>\n",
       "      <td>0.000920</td>\n",
       "      <td>0.0</td>\n",
       "      <td>0.0</td>\n",
       "      <td>0.0</td>\n",
       "      <td>0.000000</td>\n",
       "      <td>...</td>\n",
       "      <td>0.0</td>\n",
       "      <td>0.0</td>\n",
       "      <td>0.0</td>\n",
       "      <td>0.000987</td>\n",
       "      <td>0.000987</td>\n",
       "      <td>0.0</td>\n",
       "      <td>0.0</td>\n",
       "      <td>0.001162</td>\n",
       "      <td>0.001162</td>\n",
       "      <td>aleko-konstantinov</td>\n",
       "    </tr>\n",
       "    <tr>\n",
       "      <th>3</th>\n",
       "      <td>0.113667</td>\n",
       "      <td>0.000000</td>\n",
       "      <td>0.000000</td>\n",
       "      <td>0.000000</td>\n",
       "      <td>0.000000</td>\n",
       "      <td>0.000000</td>\n",
       "      <td>0.0</td>\n",
       "      <td>0.0</td>\n",
       "      <td>0.0</td>\n",
       "      <td>0.000000</td>\n",
       "      <td>...</td>\n",
       "      <td>0.0</td>\n",
       "      <td>0.0</td>\n",
       "      <td>0.0</td>\n",
       "      <td>0.000000</td>\n",
       "      <td>0.000000</td>\n",
       "      <td>0.0</td>\n",
       "      <td>0.0</td>\n",
       "      <td>0.000000</td>\n",
       "      <td>0.000000</td>\n",
       "      <td>aleko-konstantinov</td>\n",
       "    </tr>\n",
       "    <tr>\n",
       "      <th>4</th>\n",
       "      <td>0.063282</td>\n",
       "      <td>0.000000</td>\n",
       "      <td>0.000000</td>\n",
       "      <td>0.000000</td>\n",
       "      <td>0.000000</td>\n",
       "      <td>0.000000</td>\n",
       "      <td>0.0</td>\n",
       "      <td>0.0</td>\n",
       "      <td>0.0</td>\n",
       "      <td>0.000000</td>\n",
       "      <td>...</td>\n",
       "      <td>0.0</td>\n",
       "      <td>0.0</td>\n",
       "      <td>0.0</td>\n",
       "      <td>0.000000</td>\n",
       "      <td>0.000000</td>\n",
       "      <td>0.0</td>\n",
       "      <td>0.0</td>\n",
       "      <td>0.000000</td>\n",
       "      <td>0.000000</td>\n",
       "      <td>aleko-konstantinov</td>\n",
       "    </tr>\n",
       "  </tbody>\n",
       "</table>\n",
       "<p>5 rows × 439037 columns</p>\n",
       "</div>"
      ],
      "text/plain": [
       "          !       ! !     ! ! —  ! ! — извикам     ! ! …   ! ! … “  ! $  \\\n",
       "0  0.078696  0.000000  0.000000       0.000000  0.000000  0.000000  0.0   \n",
       "1  0.133665  0.001895  0.000991       0.000991  0.000947  0.000947  0.0   \n",
       "2  0.141374  0.001841  0.000963       0.000963  0.000920  0.000920  0.0   \n",
       "3  0.113667  0.000000  0.000000       0.000000  0.000000  0.000000  0.0   \n",
       "4  0.063282  0.000000  0.000000       0.000000  0.000000  0.000000  0.0   \n",
       "\n",
       "   ! $ id  ! $ id =       ! (  ...  … „ десятая индикт  … „ живот  \\\n",
       "0     0.0       0.0  0.000000  ...                 0.0        0.0   \n",
       "1     0.0       0.0  0.000877  ...                 0.0        0.0   \n",
       "2     0.0       0.0  0.000000  ...                 0.0        0.0   \n",
       "3     0.0       0.0  0.000000  ...                 0.0        0.0   \n",
       "4     0.0       0.0  0.000000  ...                 0.0        0.0   \n",
       "\n",
       "   … „ живот ли    … „ ну  … „ ну ,  … „ солнце  … „ солнце позная     … „ я  \\\n",
       "0           0.0  0.000000  0.000000         0.0                0.0  0.000000   \n",
       "1           0.0  0.001016  0.001016         0.0                0.0  0.000000   \n",
       "2           0.0  0.000987  0.000987         0.0                0.0  0.001162   \n",
       "3           0.0  0.000000  0.000000         0.0                0.0  0.000000   \n",
       "4           0.0  0.000000  0.000000         0.0                0.0  0.000000   \n",
       "\n",
       "   … „ я тебя              author  \n",
       "0    0.000000  aleko-konstantinov  \n",
       "1    0.000000  aleko-konstantinov  \n",
       "2    0.001162  aleko-konstantinov  \n",
       "3    0.000000  aleko-konstantinov  \n",
       "4    0.000000  aleko-konstantinov  \n",
       "\n",
       "[5 rows x 439037 columns]"
      ]
     },
     "execution_count": 4,
     "metadata": {},
     "output_type": "execute_result"
    }
   ],
   "source": [
    "data_table_med.head()"
   ]
  },
  {
   "attachments": {},
   "cell_type": "markdown",
   "metadata": {},
   "source": [
    "# Let's answer some questions"
   ]
  },
  {
   "attachments": {},
   "cell_type": "markdown",
   "metadata": {},
   "source": [
    "## Which is the heaviest word?"
   ]
  },
  {
   "cell_type": "code",
   "execution_count": 5,
   "metadata": {},
   "outputs": [
    {
     "name": "stdout",
     "output_type": "stream",
     "text": [
      "Word = стоян\n",
      "Weight = 0.5352205888607046\n",
      "Average for the column = 0.07410230352020153\n"
     ]
    }
   ],
   "source": [
    "# Get the maximum value for each word\n",
    "m = data_table_hard.iloc[:,:-1].max().max()\n",
    "m\n",
    "\n",
    "for i, value in data_table_hard.max().items():\n",
    "  if value == m:\n",
    "    idx = i\n",
    "    break\n",
    "\n",
    "print(f'Word = {idx}')\n",
    "print(f'Weight = {data_table_hard[idx].max()}')\n",
    "print(f'Average for the column = {data_table_hard[idx].mean()}')"
   ]
  },
  {
   "attachments": {},
   "cell_type": "markdown",
   "metadata": {},
   "source": [
    "## Who used the heaviest word?"
   ]
  },
  {
   "cell_type": "code",
   "execution_count": 6,
   "metadata": {},
   "outputs": [
    {
     "data": {
      "text/plain": [
       "'dimityr-talev'"
      ]
     },
     "execution_count": 6,
     "metadata": {},
     "output_type": "execute_result"
    }
   ],
   "source": [
    "for (i, val) in enumerate(data_table_hard[idx]):\n",
    "  if val == m:\n",
    "    idx = i\n",
    "    break\n",
    "\n",
    "data_table_hard.iloc[idx].author"
   ]
  },
  {
   "attachments": {},
   "cell_type": "markdown",
   "metadata": {},
   "source": [
    "## Which words have at least one weight greater than or equal to 0.5?"
   ]
  },
  {
   "cell_type": "code",
   "execution_count": 7,
   "metadata": {},
   "outputs": [
    {
     "name": "stdout",
     "output_type": "stream",
     "text": [
      "Word = , | Average for the column = 0.5712891548337887 | Max for the column = 0.6731109682434648\n"
     ]
    }
   ],
   "source": [
    "for i, value in data_table_soft.iloc[:,:-1].items():\n",
    "  if data_table_soft[i].max() >= 0.5:\n",
    "    print(f'Word = {i} | Average for the column = {data_table_soft[i].mean()} | Max for the column = {data_table_soft[i].max()}')"
   ]
  },
  {
   "cell_type": "code",
   "execution_count": 8,
   "metadata": {},
   "outputs": [
    {
     "name": "stdout",
     "output_type": "stream",
     "text": [
      "Word = , | Average for the column = 0.5671522127227558 | Max for the column = 0.6679998883052127\n"
     ]
    }
   ],
   "source": [
    "for i, value in data_table_med.iloc[:,:-1].items():\n",
    "  if data_table_med[i].max() >= 0.5:\n",
    "    print(f'Word = {i} | Average for the column = {data_table_med[i].mean()} | Max for the column = {data_table_med[i].max()}')"
   ]
  },
  {
   "cell_type": "code",
   "execution_count": 9,
   "metadata": {},
   "outputs": [
    {
     "name": "stdout",
     "output_type": "stream",
     "text": [
      "Word = индж | Average for the column = 0.011885257893087855 | Max for the column = 0.516249681562246\n",
      "Word = люцка | Average for the column = 0.06752983294123366 | Max for the column = 0.5119803419755425\n",
      "Word = стоян | Average for the column = 0.07410230352020153 | Max for the column = 0.5352205888607046\n"
     ]
    }
   ],
   "source": [
    "for i, value in data_table_hard.iloc[:,:-1].items():\n",
    "  if data_table_hard[i].max() >= 0.5:\n",
    "    print(f'Word = {i} | Average for the column = {data_table_hard[i].mean()} | Max for the column = {data_table_hard[i].max()}')"
   ]
  }
 ],
 "metadata": {
  "kernelspec": {
   "display_name": "venv",
   "language": "python",
   "name": "python3"
  },
  "language_info": {
   "codemirror_mode": {
    "name": "ipython",
    "version": 3
   },
   "file_extension": ".py",
   "mimetype": "text/x-python",
   "name": "python",
   "nbconvert_exporter": "python",
   "pygments_lexer": "ipython3",
   "version": "3.10.6"
  },
  "orig_nbformat": 4,
  "vscode": {
   "interpreter": {
    "hash": "f0d58e24dc67ad9783eb84df4952f180ee26c1094f6469aa467482cf58a4f907"
   }
  }
 },
 "nbformat": 4,
 "nbformat_minor": 2
}
