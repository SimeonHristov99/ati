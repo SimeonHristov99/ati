{
 "cells": [
  {
   "attachments": {},
   "cell_type": "markdown",
   "metadata": {},
   "source": [
    "# Imports"
   ]
  },
  {
   "cell_type": "code",
   "execution_count": 1,
   "metadata": {},
   "outputs": [],
   "source": [
    "import numpy as np\n",
    "import pandas as pd\n",
    "pd.set_option('max_colwidth', 150)\n",
    "import matplotlib.pyplot as plt\n",
    "\n",
    "import pickle\n",
    "\n",
    "from sklearn.model_selection import train_test_split\n",
    "\n",
    "from sklearn.preprocessing import LabelEncoder\n",
    "from sklearn.linear_model import LogisticRegression\n",
    "from sklearn.neighbors import KNeighborsClassifier\n",
    "from sklearn.naive_bayes import GaussianNB\n",
    "from sklearn.naive_bayes import MultinomialNB\n",
    "\n",
    "from catboost import CatBoostClassifier\n",
    "\n",
    "from sklearn.decomposition import PCA\n",
    "\n",
    "from sklearn.metrics import accuracy_score, log_loss, f1_score, matthews_corrcoef"
   ]
  },
  {
   "cell_type": "code",
   "execution_count": 2,
   "metadata": {},
   "outputs": [],
   "source": [
    "DATA_PATH_PREP = '../DATA/prepared'"
   ]
  },
  {
   "attachments": {},
   "cell_type": "markdown",
   "metadata": {},
   "source": [
    "# Load data"
   ]
  },
  {
   "cell_type": "code",
   "execution_count": 3,
   "metadata": {},
   "outputs": [],
   "source": [
    "# data_table_soft = pd.read_pickle(f'{DATA_PATH_PREP}/04_data_table_soft.pkl')\n",
    "# data_table_med = pd.read_pickle(f'{DATA_PATH_PREP}/04_data_table_med.pkl')\n",
    "data_table_hard = pd.read_pickle(f'{DATA_PATH_PREP}/04_data_table_hard.pkl')"
   ]
  },
  {
   "attachments": {},
   "cell_type": "markdown",
   "metadata": {},
   "source": [
    "# Split data"
   ]
  },
  {
   "cell_type": "code",
   "execution_count": 5,
   "metadata": {},
   "outputs": [
    {
     "name": "stdout",
     "output_type": "stream",
     "text": [
      "{0: 'aleko-konstantinov', 1: 'dimityr-dimov', 2: 'dimityr-talev', 3: 'elin-pelin', 4: 'ivan_vazov', 5: 'jordan-jovkov'}\n",
      "Reducing 240360 to 15\n",
      "(144, 15) | (144,)\n",
      "(18, 15)  | (18,)\n",
      "(18, 15)  | (18,)\n"
     ]
    }
   ],
   "source": [
    "num_pca_components = 15\n",
    "X = data_table_hard.drop('author', axis=1)\n",
    "y = data_table_hard['author']\n",
    "\n",
    "le = LabelEncoder()\n",
    "y = le.fit_transform(y)\n",
    "print(dict(enumerate(le.classes_)))\n",
    "\n",
    "print(f'Reducing {X.shape[1]} to {num_pca_components}')\n",
    "pca = PCA(n_components=num_pca_components)\n",
    "pr_components = pca.fit_transform(X)\n",
    "X_PCA = pd.DataFrame(data=pr_components, columns=[f'comp_{idx}' for idx in range(num_pca_components)])\n",
    "X_PCA\n",
    "\n",
    "seed = 42\n",
    "X_train, X_test_val_test, y_train, y_test_val_test = train_test_split(X_PCA, y, random_state=seed, train_size=0.8)\n",
    "X_val, X_test, y_val, y_test = train_test_split(X_test_val_test, y_test_val_test, random_state=seed, train_size=0.5)\n",
    "\n",
    "print(f'{X_train.shape} | {y_train.shape}')\n",
    "print(f'{X_val.shape}  | {y_val.shape}')\n",
    "print(f'{X_test.shape}  | {y_test.shape}')"
   ]
  },
  {
   "attachments": {},
   "cell_type": "markdown",
   "metadata": {},
   "source": [
    "# Choose a model"
   ]
  },
  {
   "attachments": {},
   "cell_type": "markdown",
   "metadata": {},
   "source": [
    "## `LogisticRegression`"
   ]
  },
  {
   "cell_type": "code",
   "execution_count": 6,
   "metadata": {},
   "outputs": [
    {
     "name": "stdout",
     "output_type": "stream",
     "text": [
      "acc=1.0\n",
      "neg_log_loss=0.25601648986378006\n",
      "mcc=1.0\n",
      "f1=1.0\n"
     ]
    }
   ],
   "source": [
    "log_reg = LogisticRegression()\n",
    "log_reg.fit(X_train, y_train)\n",
    "\n",
    "y_pred = log_reg.predict(X_val)\n",
    "y_pred_proba = log_reg.predict_proba(X_val)\n",
    "\n",
    "acc = accuracy_score(y_val, y_pred)\n",
    "neg_log_loss = log_loss(y_val, y_pred_proba)\n",
    "mcc = matthews_corrcoef(y_val, y_pred)\n",
    "f1 = f1_score(y_val, y_pred, average='macro')\n",
    "\n",
    "print(f'{acc=}' )\n",
    "print(f'{neg_log_loss=}' )\n",
    "print(f'{mcc=}' )\n",
    "print(f'{f1=}' )"
   ]
  },
  {
   "attachments": {},
   "cell_type": "markdown",
   "metadata": {},
   "source": [
    "# Going with `LogisticRegression`\n",
    "\n",
    "It's simple and it works."
   ]
  },
  {
   "cell_type": "code",
   "execution_count": 7,
   "metadata": {},
   "outputs": [
    {
     "name": "stdout",
     "output_type": "stream",
     "text": [
      "acc=1.0\n",
      "neg_log_loss=0.33646550318857105\n",
      "mcc=1.0\n",
      "f1=1.0\n"
     ]
    }
   ],
   "source": [
    "y_pred = log_reg.predict(X_test)\n",
    "y_pred_proba = log_reg.predict_proba(X_test)\n",
    "\n",
    "acc = accuracy_score(y_test, y_pred)\n",
    "neg_log_loss = log_loss(y_test, y_pred_proba)\n",
    "mcc = matthews_corrcoef(y_test, y_pred)\n",
    "f1 = f1_score(y_test, y_pred, average='macro')\n",
    "\n",
    "print(f'{acc=}' )\n",
    "print(f'{neg_log_loss=}' )\n",
    "print(f'{mcc=}' )\n",
    "print(f'{f1=}' )"
   ]
  },
  {
   "cell_type": "code",
   "execution_count": 8,
   "metadata": {},
   "outputs": [],
   "source": [
    "pickle.dump(log_reg, open(f'{DATA_PATH_PREP}/06_model_log_reg.pkl', 'wb'))"
   ]
  }
 ],
 "metadata": {
  "kernelspec": {
   "display_name": "venv",
   "language": "python",
   "name": "python3"
  },
  "language_info": {
   "codemirror_mode": {
    "name": "ipython",
    "version": 3
   },
   "file_extension": ".py",
   "mimetype": "text/x-python",
   "name": "python",
   "nbconvert_exporter": "python",
   "pygments_lexer": "ipython3",
   "version": "3.10.6"
  },
  "orig_nbformat": 4,
  "vscode": {
   "interpreter": {
    "hash": "f0d58e24dc67ad9783eb84df4952f180ee26c1094f6469aa467482cf58a4f907"
   }
  }
 },
 "nbformat": 4,
 "nbformat_minor": 2
}
