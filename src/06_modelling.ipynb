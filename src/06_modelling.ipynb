{
 "cells": [
  {
   "attachments": {},
   "cell_type": "markdown",
   "metadata": {},
   "source": [
    "# Imports"
   ]
  },
  {
   "cell_type": "code",
   "execution_count": 1,
   "metadata": {},
   "outputs": [],
   "source": [
    "import numpy as np\n",
    "import pandas as pd\n",
    "pd.set_option('max_colwidth', 150)\n",
    "import matplotlib.pyplot as plt\n",
    "\n",
    "import pickle\n",
    "\n",
    "from sklearn.model_selection import train_test_split\n",
    "\n",
    "from sklearn.model_selection import cross_val_score\n",
    "from sklearn.model_selection import cross_validate\n",
    "from sklearn.model_selection import StratifiedKFold\n",
    "\n",
    "from sklearn.linear_model import LogisticRegression\n",
    "from sklearn.neighbors import KNeighborsClassifier\n",
    "from sklearn.naive_bayes import GaussianNB\n",
    "from sklearn.naive_bayes import MultinomialNB"
   ]
  },
  {
   "cell_type": "code",
   "execution_count": 2,
   "metadata": {},
   "outputs": [],
   "source": [
    "DATA_PATH_PREP = '../DATA/prepared'"
   ]
  },
  {
   "attachments": {},
   "cell_type": "markdown",
   "metadata": {},
   "source": [
    "# Load data"
   ]
  },
  {
   "cell_type": "code",
   "execution_count": 3,
   "metadata": {},
   "outputs": [],
   "source": [
    "# data_table_soft = pd.read_pickle(f'{DATA_PATH_PREP}/04_data_table_soft.pkl')\n",
    "# data_table_med = pd.read_pickle(f'{DATA_PATH_PREP}/04_data_table_med.pkl')\n",
    "data_table_hard = pd.read_pickle(f'{DATA_PATH_PREP}/04_data_table_hard.pkl')"
   ]
  },
  {
   "attachments": {},
   "cell_type": "markdown",
   "metadata": {},
   "source": [
    "# Split data"
   ]
  },
  {
   "cell_type": "code",
   "execution_count": 4,
   "metadata": {},
   "outputs": [],
   "source": [
    "X = data_table_hard.drop('author', axis=1)\n",
    "y = data_table_hard['author']"
   ]
  },
  {
   "attachments": {},
   "cell_type": "markdown",
   "metadata": {},
   "source": [
    "# Choose a model"
   ]
  },
  {
   "cell_type": "code",
   "execution_count": 5,
   "metadata": {},
   "outputs": [
    {
     "name": "stdout",
     "output_type": "stream",
     "text": [
      "LogisticRegression: 1.0\n",
      "KNeighborsClassifier: 1.0\n",
      "GaussianNB: 1.0\n",
      "MultinomialNB: 1.0\n"
     ]
    }
   ],
   "source": [
    "strat_k_fold = StratifiedKFold(n_splits=10, shuffle=True)\n",
    "\n",
    "lr = LogisticRegression()\n",
    "print(f'LogisticRegression: {cross_val_score(lr, X, y, cv=strat_k_fold).mean()}')\n",
    "\n",
    "knn = KNeighborsClassifier(n_neighbors=5)\n",
    "print(f'KNeighborsClassifier: {cross_val_score(knn, X, y, cv=strat_k_fold).mean()}')\n",
    "\n",
    "gnb = GaussianNB()\n",
    "print(f'GaussianNB: {cross_val_score(gnb, X, y, cv=strat_k_fold).mean()}')\n",
    "\n",
    "mnb = MultinomialNB()\n",
    "print(f'MultinomialNB: {cross_val_score(mnb, X, y, cv=strat_k_fold).mean()}')"
   ]
  },
  {
   "attachments": {},
   "cell_type": "markdown",
   "metadata": {},
   "source": [
    "## `LogisticRegression`"
   ]
  },
  {
   "cell_type": "code",
   "execution_count": 8,
   "metadata": {},
   "outputs": [
    {
     "name": "stdout",
     "output_type": "stream",
     "text": [
      "F1 Score: 1.00 (+/- 0.00)\n",
      "Neg Log Loss: -0.12 (+/- 0.02)\n"
     ]
    },
    {
     "data": {
      "text/plain": [
       "{'fit_time': array([46.60050178, 50.45569158, 48.17863178, 50.15326047, 45.16486573]),\n",
       " 'score_time': array([6.27061605, 7.33857942, 6.58240962, 6.31829286, 6.4513073 ]),\n",
       " 'test_neg_log_loss': array([-0.11125182, -0.12158587, -0.13698518, -0.12316344, -0.10106389]),\n",
       " 'train_neg_log_loss': array([-0.10231682, -0.10237432, -0.09930565, -0.101202  , -0.10385287]),\n",
       " 'test_f1_macro': array([1., 1., 1., 1., 1.]),\n",
       " 'train_f1_macro': array([1., 1., 1., 1., 1.]),\n",
       " 'test_accuracy': array([1., 1., 1., 1., 1.]),\n",
       " 'train_accuracy': array([1., 1., 1., 1., 1.])}"
      ]
     },
     "execution_count": 8,
     "metadata": {},
     "output_type": "execute_result"
    }
   ],
   "source": [
    "log_reg = LogisticRegression(multi_class='auto')\n",
    "\n",
    "# Perform cross-validation\n",
    "scores_log_reg = cross_validate(log_reg, X, y, cv=5, scoring=('neg_log_loss', 'f1_macro', 'accuracy'), return_train_score=True)\n",
    "\n",
    "# Print the mean and standard deviation of the scores_log_reg\n",
    "print(f\"F1 Score: {scores_log_reg['test_f1_macro'].mean():.2f} (+/- {scores_log_reg['test_f1_macro'].std() * 2:.2f})\")\n",
    "print(f\"Neg Log Loss: {scores_log_reg['test_neg_log_loss'].mean():.2f} (+/- {scores_log_reg['test_neg_log_loss'].std() * 2:.2f})\")\n",
    "\n",
    "scores_log_reg"
   ]
  },
  {
   "cell_type": "code",
   "execution_count": 9,
   "metadata": {},
   "outputs": [
    {
     "data": {
      "image/png": "[encoded data removed]",
      "text/plain": [
       "<Figure size 640x480 with 1 Axes>"
      ]
     },
     "metadata": {},
     "output_type": "display_data"
    }
   ],
   "source": [
    "plt.plot(scores_log_reg['train_neg_log_loss'], label='train')\n",
    "plt.plot(scores_log_reg['test_neg_log_loss'], label='test')\n",
    "\n",
    "plt.xticks(range(len(scores_log_reg['test_neg_log_loss'])))\n",
    "\n",
    "plt.legend()\n",
    "\n",
    "plt.show()"
   ]
  },
  {
   "attachments": {},
   "cell_type": "markdown",
   "metadata": {},
   "source": [
    "# Going with `LogisticRegression`\n",
    "\n",
    "It's simple and it works."
   ]
  },
  {
   "cell_type": "code",
   "execution_count": 11,
   "metadata": {},
   "outputs": [],
   "source": [
    "log_reg.fit(X, y)\n",
    "pickle.dump(log_reg, open(f'{DATA_PATH_PREP}/06_model_log_reg.pkl', 'wb'))"
   ]
  }
 ],
 "metadata": {
  "kernelspec": {
   "display_name": "venv",
   "language": "python",
   "name": "python3"
  },
  "language_info": {
   "codemirror_mode": {
    "name": "ipython",
    "version": 3
   },
   "file_extension": ".py",
   "mimetype": "text/x-python",
   "name": "python",
   "nbconvert_exporter": "python",
   "pygments_lexer": "ipython3",
   "version": "3.10.6"
  },
  "orig_nbformat": 4,
  "vscode": {
   "interpreter": {
    "hash": "f0d58e24dc67ad9783eb84df4952f180ee26c1094f6469aa467482cf58a4f907"
   }
  }
 },
 "nbformat": 4,
 "nbformat_minor": 2
}
